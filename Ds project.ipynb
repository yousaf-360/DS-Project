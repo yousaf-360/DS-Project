{
  "cells": [
    {
      "cell_type": "markdown",
      "metadata": {
        "id": "HD5joajHHO7M"
      },
      "source": [
        "# 20L-2128 Muhammad Ahmad Mamoon\n",
        "# 20L-1149 Yousaf Khalid\n",
        "# 20L-0928 Muhammad Ahmad"
      ]
    },
    {
      "cell_type": "code",
      "execution_count": 1,
      "metadata": {
        "id": "qiuwiY-Xwipm"
      },
      "outputs": [],
      "source": [
        "## Importing required Libraries\n",
        "\n",
        "import pandas as pd\n",
        "import numpy as np\n",
        "from scipy.stats import zscore"
      ]
    },
    {
      "cell_type": "code",
      "execution_count": 2,
      "metadata": {
        "colab": {
          "base_uri": "https://localhost:8080/",
          "height": 669
        },
        "id": "EXpux94xwn4h",
        "outputId": "9a7c0e43-09d6-477a-c50b-902006903920"
      },
      "outputs": [
        {
          "data": {
            "text/html": [
              "<div>\n",
              "<style scoped>\n",
              "    .dataframe tbody tr th:only-of-type {\n",
              "        vertical-align: middle;\n",
              "    }\n",
              "\n",
              "    .dataframe tbody tr th {\n",
              "        vertical-align: top;\n",
              "    }\n",
              "\n",
              "    .dataframe thead th {\n",
              "        text-align: right;\n",
              "    }\n",
              "</style>\n",
              "<table border=\"1\" class=\"dataframe\">\n",
              "  <thead>\n",
              "    <tr style=\"text-align: right;\">\n",
              "      <th></th>\n",
              "      <th>ID</th>\n",
              "      <th>Price</th>\n",
              "      <th>Levy</th>\n",
              "      <th>Manufacturer</th>\n",
              "      <th>Model</th>\n",
              "      <th>Prod. year</th>\n",
              "      <th>Category</th>\n",
              "      <th>Leather interior</th>\n",
              "      <th>Fuel type</th>\n",
              "      <th>Engine volume</th>\n",
              "      <th>Mileage</th>\n",
              "      <th>Cylinders</th>\n",
              "      <th>Gear box type</th>\n",
              "      <th>Drive wheels</th>\n",
              "      <th>Doors</th>\n",
              "      <th>Wheel</th>\n",
              "      <th>Color</th>\n",
              "      <th>Airbags</th>\n",
              "    </tr>\n",
              "  </thead>\n",
              "  <tbody>\n",
              "    <tr>\n",
              "      <th>0</th>\n",
              "      <td>45654403</td>\n",
              "      <td>13328</td>\n",
              "      <td>1399</td>\n",
              "      <td>LEXUS</td>\n",
              "      <td>RX 450</td>\n",
              "      <td>2010</td>\n",
              "      <td>Jeep</td>\n",
              "      <td>Yes</td>\n",
              "      <td>Hybrid</td>\n",
              "      <td>3.5</td>\n",
              "      <td>186005 km</td>\n",
              "      <td>6.0</td>\n",
              "      <td>Automatic</td>\n",
              "      <td>4x4</td>\n",
              "      <td>04-May</td>\n",
              "      <td>Left wheel</td>\n",
              "      <td>Silver</td>\n",
              "      <td>12</td>\n",
              "    </tr>\n",
              "    <tr>\n",
              "      <th>1</th>\n",
              "      <td>44731507</td>\n",
              "      <td>16621</td>\n",
              "      <td>1018</td>\n",
              "      <td>CHEVROLET</td>\n",
              "      <td>Equinox</td>\n",
              "      <td>2011</td>\n",
              "      <td>Jeep</td>\n",
              "      <td>No</td>\n",
              "      <td>Petrol</td>\n",
              "      <td>3</td>\n",
              "      <td>192000 km</td>\n",
              "      <td>6.0</td>\n",
              "      <td>Tiptronic</td>\n",
              "      <td>4x4</td>\n",
              "      <td>04-May</td>\n",
              "      <td>Left wheel</td>\n",
              "      <td>Black</td>\n",
              "      <td>8</td>\n",
              "    </tr>\n",
              "    <tr>\n",
              "      <th>2</th>\n",
              "      <td>45774419</td>\n",
              "      <td>8467</td>\n",
              "      <td>-</td>\n",
              "      <td>HONDA</td>\n",
              "      <td>FIT</td>\n",
              "      <td>2006</td>\n",
              "      <td>Hatchback</td>\n",
              "      <td>No</td>\n",
              "      <td>Petrol</td>\n",
              "      <td>1.3</td>\n",
              "      <td>200000 km</td>\n",
              "      <td>4.0</td>\n",
              "      <td>Variator</td>\n",
              "      <td>Front</td>\n",
              "      <td>04-May</td>\n",
              "      <td>Right-hand drive</td>\n",
              "      <td>Black</td>\n",
              "      <td>2</td>\n",
              "    </tr>\n",
              "    <tr>\n",
              "      <th>3</th>\n",
              "      <td>45769185</td>\n",
              "      <td>3607</td>\n",
              "      <td>862</td>\n",
              "      <td>FORD</td>\n",
              "      <td>Escape</td>\n",
              "      <td>2011</td>\n",
              "      <td>Jeep</td>\n",
              "      <td>Yes</td>\n",
              "      <td>Hybrid</td>\n",
              "      <td>2.5</td>\n",
              "      <td>168966 km</td>\n",
              "      <td>4.0</td>\n",
              "      <td>Automatic</td>\n",
              "      <td>4x4</td>\n",
              "      <td>04-May</td>\n",
              "      <td>Left wheel</td>\n",
              "      <td>White</td>\n",
              "      <td>0</td>\n",
              "    </tr>\n",
              "    <tr>\n",
              "      <th>4</th>\n",
              "      <td>45809263</td>\n",
              "      <td>11726</td>\n",
              "      <td>446</td>\n",
              "      <td>HONDA</td>\n",
              "      <td>FIT</td>\n",
              "      <td>2014</td>\n",
              "      <td>Hatchback</td>\n",
              "      <td>Yes</td>\n",
              "      <td>Petrol</td>\n",
              "      <td>1.3</td>\n",
              "      <td>91901 km</td>\n",
              "      <td>4.0</td>\n",
              "      <td>Automatic</td>\n",
              "      <td>Front</td>\n",
              "      <td>04-May</td>\n",
              "      <td>Left wheel</td>\n",
              "      <td>Silver</td>\n",
              "      <td>4</td>\n",
              "    </tr>\n",
              "    <tr>\n",
              "      <th>...</th>\n",
              "      <td>...</td>\n",
              "      <td>...</td>\n",
              "      <td>...</td>\n",
              "      <td>...</td>\n",
              "      <td>...</td>\n",
              "      <td>...</td>\n",
              "      <td>...</td>\n",
              "      <td>...</td>\n",
              "      <td>...</td>\n",
              "      <td>...</td>\n",
              "      <td>...</td>\n",
              "      <td>...</td>\n",
              "      <td>...</td>\n",
              "      <td>...</td>\n",
              "      <td>...</td>\n",
              "      <td>...</td>\n",
              "      <td>...</td>\n",
              "      <td>...</td>\n",
              "    </tr>\n",
              "    <tr>\n",
              "      <th>19232</th>\n",
              "      <td>45798355</td>\n",
              "      <td>8467</td>\n",
              "      <td>-</td>\n",
              "      <td>MERCEDES-BENZ</td>\n",
              "      <td>CLK 200</td>\n",
              "      <td>1999</td>\n",
              "      <td>Coupe</td>\n",
              "      <td>Yes</td>\n",
              "      <td>CNG</td>\n",
              "      <td>2.0 Turbo</td>\n",
              "      <td>300000 km</td>\n",
              "      <td>4.0</td>\n",
              "      <td>Manual</td>\n",
              "      <td>Rear</td>\n",
              "      <td>02-Mar</td>\n",
              "      <td>Left wheel</td>\n",
              "      <td>Silver</td>\n",
              "      <td>5</td>\n",
              "    </tr>\n",
              "    <tr>\n",
              "      <th>19233</th>\n",
              "      <td>45778856</td>\n",
              "      <td>15681</td>\n",
              "      <td>831</td>\n",
              "      <td>HYUNDAI</td>\n",
              "      <td>Sonata</td>\n",
              "      <td>2011</td>\n",
              "      <td>Sedan</td>\n",
              "      <td>Yes</td>\n",
              "      <td>Petrol</td>\n",
              "      <td>2.4</td>\n",
              "      <td>161600 km</td>\n",
              "      <td>4.0</td>\n",
              "      <td>Tiptronic</td>\n",
              "      <td>Front</td>\n",
              "      <td>04-May</td>\n",
              "      <td>Left wheel</td>\n",
              "      <td>Red</td>\n",
              "      <td>8</td>\n",
              "    </tr>\n",
              "    <tr>\n",
              "      <th>19234</th>\n",
              "      <td>45804997</td>\n",
              "      <td>26108</td>\n",
              "      <td>836</td>\n",
              "      <td>HYUNDAI</td>\n",
              "      <td>Tucson</td>\n",
              "      <td>2010</td>\n",
              "      <td>Jeep</td>\n",
              "      <td>Yes</td>\n",
              "      <td>Diesel</td>\n",
              "      <td>2</td>\n",
              "      <td>116365 km</td>\n",
              "      <td>4.0</td>\n",
              "      <td>Automatic</td>\n",
              "      <td>Front</td>\n",
              "      <td>04-May</td>\n",
              "      <td>Left wheel</td>\n",
              "      <td>Grey</td>\n",
              "      <td>4</td>\n",
              "    </tr>\n",
              "    <tr>\n",
              "      <th>19235</th>\n",
              "      <td>45793526</td>\n",
              "      <td>5331</td>\n",
              "      <td>1288</td>\n",
              "      <td>CHEVROLET</td>\n",
              "      <td>Captiva</td>\n",
              "      <td>2007</td>\n",
              "      <td>Jeep</td>\n",
              "      <td>Yes</td>\n",
              "      <td>Diesel</td>\n",
              "      <td>2</td>\n",
              "      <td>51258 km</td>\n",
              "      <td>4.0</td>\n",
              "      <td>Automatic</td>\n",
              "      <td>Front</td>\n",
              "      <td>04-May</td>\n",
              "      <td>Left wheel</td>\n",
              "      <td>Black</td>\n",
              "      <td>4</td>\n",
              "    </tr>\n",
              "    <tr>\n",
              "      <th>19236</th>\n",
              "      <td>45813273</td>\n",
              "      <td>470</td>\n",
              "      <td>753</td>\n",
              "      <td>HYUNDAI</td>\n",
              "      <td>Sonata</td>\n",
              "      <td>2012</td>\n",
              "      <td>Sedan</td>\n",
              "      <td>Yes</td>\n",
              "      <td>Hybrid</td>\n",
              "      <td>2.4</td>\n",
              "      <td>186923 km</td>\n",
              "      <td>4.0</td>\n",
              "      <td>Automatic</td>\n",
              "      <td>Front</td>\n",
              "      <td>04-May</td>\n",
              "      <td>Left wheel</td>\n",
              "      <td>White</td>\n",
              "      <td>12</td>\n",
              "    </tr>\n",
              "  </tbody>\n",
              "</table>\n",
              "<p>19237 rows × 18 columns</p>\n",
              "</div>"
            ],
            "text/plain": [
              "             ID  Price  Levy   Manufacturer    Model  Prod. year   Category  \\\n",
              "0      45654403  13328  1399          LEXUS   RX 450        2010       Jeep   \n",
              "1      44731507  16621  1018      CHEVROLET  Equinox        2011       Jeep   \n",
              "2      45774419   8467     -          HONDA      FIT        2006  Hatchback   \n",
              "3      45769185   3607   862           FORD   Escape        2011       Jeep   \n",
              "4      45809263  11726   446          HONDA      FIT        2014  Hatchback   \n",
              "...         ...    ...   ...            ...      ...         ...        ...   \n",
              "19232  45798355   8467     -  MERCEDES-BENZ  CLK 200        1999      Coupe   \n",
              "19233  45778856  15681   831        HYUNDAI   Sonata        2011      Sedan   \n",
              "19234  45804997  26108   836        HYUNDAI   Tucson        2010       Jeep   \n",
              "19235  45793526   5331  1288      CHEVROLET  Captiva        2007       Jeep   \n",
              "19236  45813273    470   753        HYUNDAI   Sonata        2012      Sedan   \n",
              "\n",
              "      Leather interior Fuel type Engine volume    Mileage  Cylinders  \\\n",
              "0                  Yes    Hybrid           3.5  186005 km        6.0   \n",
              "1                   No    Petrol             3  192000 km        6.0   \n",
              "2                   No    Petrol           1.3  200000 km        4.0   \n",
              "3                  Yes    Hybrid           2.5  168966 km        4.0   \n",
              "4                  Yes    Petrol           1.3   91901 km        4.0   \n",
              "...                ...       ...           ...        ...        ...   \n",
              "19232              Yes       CNG     2.0 Turbo  300000 km        4.0   \n",
              "19233              Yes    Petrol           2.4  161600 km        4.0   \n",
              "19234              Yes    Diesel             2  116365 km        4.0   \n",
              "19235              Yes    Diesel             2   51258 km        4.0   \n",
              "19236              Yes    Hybrid           2.4  186923 km        4.0   \n",
              "\n",
              "      Gear box type Drive wheels   Doors             Wheel   Color  Airbags  \n",
              "0         Automatic          4x4  04-May        Left wheel  Silver       12  \n",
              "1         Tiptronic          4x4  04-May        Left wheel   Black        8  \n",
              "2          Variator        Front  04-May  Right-hand drive   Black        2  \n",
              "3         Automatic          4x4  04-May        Left wheel   White        0  \n",
              "4         Automatic        Front  04-May        Left wheel  Silver        4  \n",
              "...             ...          ...     ...               ...     ...      ...  \n",
              "19232        Manual         Rear  02-Mar        Left wheel  Silver        5  \n",
              "19233     Tiptronic        Front  04-May        Left wheel     Red        8  \n",
              "19234     Automatic        Front  04-May        Left wheel    Grey        4  \n",
              "19235     Automatic        Front  04-May        Left wheel   Black        4  \n",
              "19236     Automatic        Front  04-May        Left wheel   White       12  \n",
              "\n",
              "[19237 rows x 18 columns]"
            ]
          },
          "execution_count": 2,
          "metadata": {},
          "output_type": "execute_result"
        }
      ],
      "source": [
        "## Reading csv\n",
        "\n",
        "df=pd.read_csv('car_price_prediction.csv')\n",
        "df"
      ]
    },
    {
      "cell_type": "code",
      "execution_count": 3,
      "metadata": {
        "colab": {
          "base_uri": "https://localhost:8080/"
        },
        "id": "tIGkOhQa4JFL",
        "outputId": "67735144-b81a-482d-f6b5-e10b4d86120d"
      },
      "outputs": [
        {
          "name": "stdout",
          "output_type": "stream",
          "text": [
            "<class 'pandas.core.frame.DataFrame'>\n",
            "RangeIndex: 19237 entries, 0 to 19236\n",
            "Data columns (total 18 columns):\n",
            " #   Column            Non-Null Count  Dtype  \n",
            "---  ------            --------------  -----  \n",
            " 0   ID                19237 non-null  int64  \n",
            " 1   Price             19237 non-null  int64  \n",
            " 2   Levy              19237 non-null  object \n",
            " 3   Manufacturer      19237 non-null  object \n",
            " 4   Model             19237 non-null  object \n",
            " 5   Prod. year        19237 non-null  int64  \n",
            " 6   Category          19237 non-null  object \n",
            " 7   Leather interior  19237 non-null  object \n",
            " 8   Fuel type         19237 non-null  object \n",
            " 9   Engine volume     19237 non-null  object \n",
            " 10  Mileage           19237 non-null  object \n",
            " 11  Cylinders         19237 non-null  float64\n",
            " 12  Gear box type     19237 non-null  object \n",
            " 13  Drive wheels      19237 non-null  object \n",
            " 14  Doors             19237 non-null  object \n",
            " 15  Wheel             19237 non-null  object \n",
            " 16  Color             19237 non-null  object \n",
            " 17  Airbags           19237 non-null  int64  \n",
            "dtypes: float64(1), int64(4), object(13)\n",
            "memory usage: 2.6+ MB\n"
          ]
        }
      ],
      "source": [
        "### Display concise summary information\n",
        "df.info()"
      ]
    },
    {
      "cell_type": "markdown",
      "metadata": {
        "id": "LCvFuEok4K6M"
      },
      "source": [
        "# **Data Cleaning**"
      ]
    },
    {
      "cell_type": "code",
      "execution_count": 4,
      "metadata": {
        "colab": {
          "base_uri": "https://localhost:8080/"
        },
        "id": "rZ-Cc7Tf4GKT",
        "outputId": "c68ec99d-f0dd-4f96-ee8a-938ae6e1ad61"
      },
      "outputs": [
        {
          "data": {
            "text/plain": [
              "ID                  0\n",
              "Price               0\n",
              "Levy                0\n",
              "Manufacturer        0\n",
              "Model               0\n",
              "Prod. year          0\n",
              "Category            0\n",
              "Leather interior    0\n",
              "Fuel type           0\n",
              "Engine volume       0\n",
              "Mileage             0\n",
              "Cylinders           0\n",
              "Gear box type       0\n",
              "Drive wheels        0\n",
              "Doors               0\n",
              "Wheel               0\n",
              "Color               0\n",
              "Airbags             0\n",
              "dtype: int64"
            ]
          },
          "execution_count": 4,
          "metadata": {},
          "output_type": "execute_result"
        }
      ],
      "source": [
        "## Checking the null values\n",
        "\n",
        "df.isnull().sum()"
      ]
    },
    {
      "cell_type": "code",
      "execution_count": 5,
      "metadata": {
        "colab": {
          "base_uri": "https://localhost:8080/"
        },
        "id": "2TKkWwjnwttT",
        "outputId": "ed46c1ee-a2f3-4959-9ab8-f54ab7614764"
      },
      "outputs": [
        {
          "data": {
            "text/plain": [
              "(19237, 18)"
            ]
          },
          "execution_count": 5,
          "metadata": {},
          "output_type": "execute_result"
        }
      ],
      "source": [
        "# Retrieve the dimensions\n",
        "\n",
        "df.shape"
      ]
    },
    {
      "cell_type": "code",
      "execution_count": 6,
      "metadata": {
        "colab": {
          "base_uri": "https://localhost:8080/"
        },
        "id": "K05Nt6cfwxNa",
        "outputId": "cd7705ad-d555-4eba-af38-73809a9fddcd"
      },
      "outputs": [
        {
          "data": {
            "text/plain": [
              "313"
            ]
          },
          "execution_count": 6,
          "metadata": {},
          "output_type": "execute_result"
        }
      ],
      "source": [
        "## Check duplicated rows\n",
        "\n",
        "df.duplicated().sum()"
      ]
    },
    {
      "cell_type": "code",
      "execution_count": 7,
      "metadata": {
        "id": "JnMKmvnAw04J"
      },
      "outputs": [],
      "source": [
        "## Drop all duplicates\n",
        "\n",
        "df.drop_duplicates(inplace=True)"
      ]
    },
    {
      "cell_type": "code",
      "execution_count": 8,
      "metadata": {
        "colab": {
          "base_uri": "https://localhost:8080/"
        },
        "id": "73FXNH7Dw4v4",
        "outputId": "395715c8-4ce7-4582-d2a5-14375107ecf5"
      },
      "outputs": [
        {
          "data": {
            "text/plain": [
              "(17869, 18)"
            ]
          },
          "execution_count": 8,
          "metadata": {},
          "output_type": "execute_result"
        }
      ],
      "source": [
        "column_name = 'Price'\n",
        "\n",
        "# Calculate the lower and upper bounds for outliers (e.g., using the IQR method)\n",
        "Q1 = df[column_name].quantile(0.25)\n",
        "Q3 = df[column_name].quantile(0.75)\n",
        "IQR = Q3 - Q1\n",
        "lower_bound = Q1 - 1.5 * IQR\n",
        "upper_bound = Q3 + 1.5 * IQR\n",
        "\n",
        "# Create a boolean mask to identify outliers\n",
        "outlier_mask = (df[column_name] < lower_bound) | (df[column_name] > upper_bound)\n",
        "\n",
        "# Use the mask to drop the outliers from the DataFrame\n",
        "df = df[~outlier_mask]\n",
        "df.shape"
      ]
    },
    {
      "cell_type": "code",
      "execution_count": 9,
      "metadata": {
        "colab": {
          "base_uri": "https://localhost:8080/"
        },
        "id": "UeniyJZxEyyN",
        "outputId": "271dfc1b-bf39-4b34-c7cf-20bee66d7f13"
      },
      "outputs": [
        {
          "data": {
            "text/plain": [
              "(10411, 18)"
            ]
          },
          "execution_count": 9,
          "metadata": {},
          "output_type": "execute_result"
        }
      ],
      "source": [
        "# Filter the DataFrame 'df' to include only rows where the 'Price' column is greater than $10,000.\n",
        "\n",
        "\n",
        "df = df[df['Price'] > 10000]\n",
        "df.shape"
      ]
    },
    {
      "cell_type": "markdown",
      "metadata": {
        "id": "wgCfpeaK4OqB"
      },
      "source": [
        "# **Data Transformation**"
      ]
    },
    {
      "cell_type": "code",
      "execution_count": 10,
      "metadata": {
        "colab": {
          "base_uri": "https://localhost:8080/",
          "height": 615
        },
        "id": "3HL_aoDlx9Bp",
        "outputId": "81f0d378-5126-4360-9915-7547b423d83b"
      },
      "outputs": [
        {
          "data": {
            "text/html": [
              "<div>\n",
              "<style scoped>\n",
              "    .dataframe tbody tr th:only-of-type {\n",
              "        vertical-align: middle;\n",
              "    }\n",
              "\n",
              "    .dataframe tbody tr th {\n",
              "        vertical-align: top;\n",
              "    }\n",
              "\n",
              "    .dataframe thead th {\n",
              "        text-align: right;\n",
              "    }\n",
              "</style>\n",
              "<table border=\"1\" class=\"dataframe\">\n",
              "  <thead>\n",
              "    <tr style=\"text-align: right;\">\n",
              "      <th></th>\n",
              "      <th>Price</th>\n",
              "      <th>Manufacturer</th>\n",
              "      <th>Model</th>\n",
              "      <th>Prod. year</th>\n",
              "      <th>Category</th>\n",
              "      <th>Fuel type</th>\n",
              "      <th>Engine volume</th>\n",
              "      <th>Mileage</th>\n",
              "      <th>Cylinders</th>\n",
              "      <th>Gear box type</th>\n",
              "      <th>Doors</th>\n",
              "      <th>Wheel</th>\n",
              "      <th>Airbags</th>\n",
              "    </tr>\n",
              "  </thead>\n",
              "  <tbody>\n",
              "    <tr>\n",
              "      <th>0</th>\n",
              "      <td>13328</td>\n",
              "      <td>LEXUS</td>\n",
              "      <td>RX 450</td>\n",
              "      <td>2010</td>\n",
              "      <td>Jeep</td>\n",
              "      <td>Hybrid</td>\n",
              "      <td>3.5</td>\n",
              "      <td>186005 km</td>\n",
              "      <td>6.0</td>\n",
              "      <td>Automatic</td>\n",
              "      <td>04-May</td>\n",
              "      <td>Left wheel</td>\n",
              "      <td>12</td>\n",
              "    </tr>\n",
              "    <tr>\n",
              "      <th>1</th>\n",
              "      <td>16621</td>\n",
              "      <td>CHEVROLET</td>\n",
              "      <td>Equinox</td>\n",
              "      <td>2011</td>\n",
              "      <td>Jeep</td>\n",
              "      <td>Petrol</td>\n",
              "      <td>3</td>\n",
              "      <td>192000 km</td>\n",
              "      <td>6.0</td>\n",
              "      <td>Tiptronic</td>\n",
              "      <td>04-May</td>\n",
              "      <td>Left wheel</td>\n",
              "      <td>8</td>\n",
              "    </tr>\n",
              "    <tr>\n",
              "      <th>4</th>\n",
              "      <td>11726</td>\n",
              "      <td>HONDA</td>\n",
              "      <td>FIT</td>\n",
              "      <td>2014</td>\n",
              "      <td>Hatchback</td>\n",
              "      <td>Petrol</td>\n",
              "      <td>1.3</td>\n",
              "      <td>91901 km</td>\n",
              "      <td>4.0</td>\n",
              "      <td>Automatic</td>\n",
              "      <td>04-May</td>\n",
              "      <td>Left wheel</td>\n",
              "      <td>4</td>\n",
              "    </tr>\n",
              "    <tr>\n",
              "      <th>5</th>\n",
              "      <td>39493</td>\n",
              "      <td>HYUNDAI</td>\n",
              "      <td>Santa FE</td>\n",
              "      <td>2016</td>\n",
              "      <td>Jeep</td>\n",
              "      <td>Diesel</td>\n",
              "      <td>2</td>\n",
              "      <td>160931 km</td>\n",
              "      <td>4.0</td>\n",
              "      <td>Automatic</td>\n",
              "      <td>04-May</td>\n",
              "      <td>Left wheel</td>\n",
              "      <td>4</td>\n",
              "    </tr>\n",
              "    <tr>\n",
              "      <th>9</th>\n",
              "      <td>26657</td>\n",
              "      <td>LEXUS</td>\n",
              "      <td>RX 350</td>\n",
              "      <td>2007</td>\n",
              "      <td>Jeep</td>\n",
              "      <td>Petrol</td>\n",
              "      <td>3.5</td>\n",
              "      <td>128500 km</td>\n",
              "      <td>6.0</td>\n",
              "      <td>Automatic</td>\n",
              "      <td>04-May</td>\n",
              "      <td>Left wheel</td>\n",
              "      <td>12</td>\n",
              "    </tr>\n",
              "    <tr>\n",
              "      <th>...</th>\n",
              "      <td>...</td>\n",
              "      <td>...</td>\n",
              "      <td>...</td>\n",
              "      <td>...</td>\n",
              "      <td>...</td>\n",
              "      <td>...</td>\n",
              "      <td>...</td>\n",
              "      <td>...</td>\n",
              "      <td>...</td>\n",
              "      <td>...</td>\n",
              "      <td>...</td>\n",
              "      <td>...</td>\n",
              "      <td>...</td>\n",
              "    </tr>\n",
              "    <tr>\n",
              "      <th>19222</th>\n",
              "      <td>10036</td>\n",
              "      <td>HYUNDAI</td>\n",
              "      <td>Sonata</td>\n",
              "      <td>2014</td>\n",
              "      <td>Sedan</td>\n",
              "      <td>LPG</td>\n",
              "      <td>2</td>\n",
              "      <td>735970 km</td>\n",
              "      <td>4.0</td>\n",
              "      <td>Automatic</td>\n",
              "      <td>04-May</td>\n",
              "      <td>Left wheel</td>\n",
              "      <td>4</td>\n",
              "    </tr>\n",
              "    <tr>\n",
              "      <th>19224</th>\n",
              "      <td>19130</td>\n",
              "      <td>KIA</td>\n",
              "      <td>Optima ex</td>\n",
              "      <td>2014</td>\n",
              "      <td>Sedan</td>\n",
              "      <td>Petrol</td>\n",
              "      <td>2.4</td>\n",
              "      <td>35800 km</td>\n",
              "      <td>4.0</td>\n",
              "      <td>Automatic</td>\n",
              "      <td>04-May</td>\n",
              "      <td>Left wheel</td>\n",
              "      <td>12</td>\n",
              "    </tr>\n",
              "    <tr>\n",
              "      <th>19227</th>\n",
              "      <td>29793</td>\n",
              "      <td>MERCEDES-BENZ</td>\n",
              "      <td>E 350</td>\n",
              "      <td>2014</td>\n",
              "      <td>Sedan</td>\n",
              "      <td>Diesel</td>\n",
              "      <td>3.5</td>\n",
              "      <td>219030 km</td>\n",
              "      <td>6.0</td>\n",
              "      <td>Automatic</td>\n",
              "      <td>04-May</td>\n",
              "      <td>Left wheel</td>\n",
              "      <td>12</td>\n",
              "    </tr>\n",
              "    <tr>\n",
              "      <th>19233</th>\n",
              "      <td>15681</td>\n",
              "      <td>HYUNDAI</td>\n",
              "      <td>Sonata</td>\n",
              "      <td>2011</td>\n",
              "      <td>Sedan</td>\n",
              "      <td>Petrol</td>\n",
              "      <td>2.4</td>\n",
              "      <td>161600 km</td>\n",
              "      <td>4.0</td>\n",
              "      <td>Tiptronic</td>\n",
              "      <td>04-May</td>\n",
              "      <td>Left wheel</td>\n",
              "      <td>8</td>\n",
              "    </tr>\n",
              "    <tr>\n",
              "      <th>19234</th>\n",
              "      <td>26108</td>\n",
              "      <td>HYUNDAI</td>\n",
              "      <td>Tucson</td>\n",
              "      <td>2010</td>\n",
              "      <td>Jeep</td>\n",
              "      <td>Diesel</td>\n",
              "      <td>2</td>\n",
              "      <td>116365 km</td>\n",
              "      <td>4.0</td>\n",
              "      <td>Automatic</td>\n",
              "      <td>04-May</td>\n",
              "      <td>Left wheel</td>\n",
              "      <td>4</td>\n",
              "    </tr>\n",
              "  </tbody>\n",
              "</table>\n",
              "<p>10411 rows × 13 columns</p>\n",
              "</div>"
            ],
            "text/plain": [
              "       Price   Manufacturer      Model  Prod. year   Category Fuel type  \\\n",
              "0      13328          LEXUS     RX 450        2010       Jeep    Hybrid   \n",
              "1      16621      CHEVROLET    Equinox        2011       Jeep    Petrol   \n",
              "4      11726          HONDA        FIT        2014  Hatchback    Petrol   \n",
              "5      39493        HYUNDAI   Santa FE        2016       Jeep    Diesel   \n",
              "9      26657          LEXUS     RX 350        2007       Jeep    Petrol   \n",
              "...      ...            ...        ...         ...        ...       ...   \n",
              "19222  10036        HYUNDAI     Sonata        2014      Sedan       LPG   \n",
              "19224  19130            KIA  Optima ex        2014      Sedan    Petrol   \n",
              "19227  29793  MERCEDES-BENZ      E 350        2014      Sedan    Diesel   \n",
              "19233  15681        HYUNDAI     Sonata        2011      Sedan    Petrol   \n",
              "19234  26108        HYUNDAI     Tucson        2010       Jeep    Diesel   \n",
              "\n",
              "      Engine volume    Mileage  Cylinders Gear box type   Doors       Wheel  \\\n",
              "0               3.5  186005 km        6.0     Automatic  04-May  Left wheel   \n",
              "1                 3  192000 km        6.0     Tiptronic  04-May  Left wheel   \n",
              "4               1.3   91901 km        4.0     Automatic  04-May  Left wheel   \n",
              "5                 2  160931 km        4.0     Automatic  04-May  Left wheel   \n",
              "9               3.5  128500 km        6.0     Automatic  04-May  Left wheel   \n",
              "...             ...        ...        ...           ...     ...         ...   \n",
              "19222             2  735970 km        4.0     Automatic  04-May  Left wheel   \n",
              "19224           2.4   35800 km        4.0     Automatic  04-May  Left wheel   \n",
              "19227           3.5  219030 km        6.0     Automatic  04-May  Left wheel   \n",
              "19233           2.4  161600 km        4.0     Tiptronic  04-May  Left wheel   \n",
              "19234             2  116365 km        4.0     Automatic  04-May  Left wheel   \n",
              "\n",
              "       Airbags  \n",
              "0           12  \n",
              "1            8  \n",
              "4            4  \n",
              "5            4  \n",
              "9           12  \n",
              "...        ...  \n",
              "19222        4  \n",
              "19224       12  \n",
              "19227       12  \n",
              "19233        8  \n",
              "19234        4  \n",
              "\n",
              "[10411 rows x 13 columns]"
            ]
          },
          "execution_count": 10,
          "metadata": {},
          "output_type": "execute_result"
        }
      ],
      "source": [
        "## Dropping the unnecessary columns\n",
        "\n",
        "df.drop(['ID','Levy', 'Leather interior', 'Drive wheels', 'Color'], axis = 1, inplace = True)\n",
        "df"
      ]
    },
    {
      "cell_type": "code",
      "execution_count": 11,
      "metadata": {
        "colab": {
          "base_uri": "https://localhost:8080/"
        },
        "id": "NmGfOdqE61zs",
        "outputId": "06e5bf17-2861-479b-ffb3-bac5c9eb5c79"
      },
      "outputs": [
        {
          "data": {
            "text/plain": [
              "Manufacturer\n",
              "HYUNDAI          2782\n",
              "TOYOTA           2055\n",
              "MERCEDES-BENZ     895\n",
              "CHEVROLET         629\n",
              "FORD              620\n",
              "BMW               551\n",
              "HONDA             414\n",
              "SSANGYONG         402\n",
              "LEXUS             331\n",
              "VOLKSWAGEN        301\n",
              "KIA               293\n",
              "NISSAN            238\n",
              "MITSUBISHI        130\n",
              "SUBARU            120\n",
              "AUDI              101\n",
              "JEEP               90\n",
              "OPEL               66\n",
              "FIAT               51\n",
              "MAZDA              45\n",
              "DODGE              39\n",
              "MINI               33\n",
              "SUZUKI             30\n",
              "INFINITI           22\n",
              "RENAULT            21\n",
              "LAND ROVER         19\n",
              "PORSCHE            19\n",
              "JAGUAR             15\n",
              "SKODA              13\n",
              "LINCOLN             9\n",
              "VOLVO               7\n",
              "SCION               7\n",
              "CHRYSLER            7\n",
              "CADILLAC            6\n",
              "BUICK               6\n",
              "DAEWOO              5\n",
              "CITROEN             4\n",
              "PEUGEOT             4\n",
              "ACURA               3\n",
              "VAZ                 3\n",
              "MASERATI            3\n",
              "HUMMER              3\n",
              "MERCURY             3\n",
              "ALFA ROMEO          2\n",
              "GMC                 2\n",
              "GAZ                 2\n",
              "MOSKVICH            1\n",
              "SATURN              1\n",
              "DAIHATSU            1\n",
              "სხვა                1\n",
              "UAZ                 1\n",
              "FERRARI             1\n",
              "ISUZU               1\n",
              "LANCIA              1\n",
              "HAVAL               1\n",
              "GREATWALL           1\n",
              "Name: count, dtype: int64"
            ]
          },
          "execution_count": 11,
          "metadata": {},
          "output_type": "execute_result"
        }
      ],
      "source": [
        "## Checking count of Manufacturer column\n",
        "df['Manufacturer'].value_counts()"
      ]
    },
    {
      "cell_type": "code",
      "execution_count": 12,
      "metadata": {
        "id": "NalgTI3G7WmD"
      },
      "outputs": [],
      "source": [
        "## Merging Manufacturers having less than 20 records to \"Others\".\n",
        "manufacturer_counts = df['Manufacturer'].value_counts()\n",
        "\n",
        "manufacturers_to_replace = manufacturer_counts[manufacturer_counts < 20].index\n",
        "\n",
        "df.loc[df['Manufacturer'].isin(manufacturers_to_replace), 'Manufacturer'] = 'Other'\n",
        "df.loc[df['Manufacturer'] == 'Other', 'Model'] = 'Other'\n"
      ]
    },
    {
      "cell_type": "code",
      "execution_count": 13,
      "metadata": {
        "colab": {
          "base_uri": "https://localhost:8080/"
        },
        "id": "KRgJx5QL7amD",
        "outputId": "fbb129b9-0e9e-475d-eed9-09c6f79bd455"
      },
      "outputs": [
        {
          "data": {
            "text/plain": [
              "Manufacturer\n",
              "HYUNDAI          2782\n",
              "TOYOTA           2055\n",
              "MERCEDES-BENZ     895\n",
              "CHEVROLET         629\n",
              "FORD              620\n",
              "BMW               551\n",
              "HONDA             414\n",
              "SSANGYONG         402\n",
              "LEXUS             331\n",
              "VOLKSWAGEN        301\n",
              "KIA               293\n",
              "NISSAN            238\n",
              "Other             152\n",
              "MITSUBISHI        130\n",
              "SUBARU            120\n",
              "AUDI              101\n",
              "JEEP               90\n",
              "OPEL               66\n",
              "FIAT               51\n",
              "MAZDA              45\n",
              "DODGE              39\n",
              "MINI               33\n",
              "SUZUKI             30\n",
              "INFINITI           22\n",
              "RENAULT            21\n",
              "Name: count, dtype: int64"
            ]
          },
          "execution_count": 13,
          "metadata": {},
          "output_type": "execute_result"
        }
      ],
      "source": [
        "## Display count of every value in Manufacturer column\n",
        "df['Manufacturer'].value_counts()"
      ]
    },
    {
      "cell_type": "code",
      "execution_count": 14,
      "metadata": {
        "colab": {
          "base_uri": "https://localhost:8080/"
        },
        "id": "8VrH65TAyXS-",
        "outputId": "2b7093c1-94d5-4ec5-9e4b-8d95ac06e121"
      },
      "outputs": [
        {
          "name": "stdout",
          "output_type": "stream",
          "text": [
            "0                LEXUS\n",
            "1            CHEVROLET\n",
            "4                HONDA\n",
            "5              HYUNDAI\n",
            "9                LEXUS\n",
            "             ...      \n",
            "19222          HYUNDAI\n",
            "19224              KIA\n",
            "19227    MERCEDES-BENZ\n",
            "19233          HYUNDAI\n",
            "19234          HYUNDAI\n",
            "Name: Manufacturer, Length: 10411, dtype: object\n",
            "0           RX 450\n",
            "1          Equinox\n",
            "4              FIT\n",
            "5         Santa FE\n",
            "9           RX 350\n",
            "           ...    \n",
            "19222       Sonata\n",
            "19224    Optima ex\n",
            "19227        E 350\n",
            "19233       Sonata\n",
            "19234       Tucson\n",
            "Name: Model, Length: 10411, dtype: object\n"
          ]
        }
      ],
      "source": [
        "## Label encoding the Manufacturer and model\n",
        "from sklearn.preprocessing import LabelEncoder\n",
        "manufacturer_le = LabelEncoder()\n",
        "model_le = LabelEncoder()\n",
        "df['Manufacturer_encoded'] = manufacturer_le.fit_transform(df['Manufacturer'])\n",
        "df['Model_encoded'] = model_le.fit_transform(df['Model'])\n",
        "print(df['Manufacturer'])\n",
        "print(df['Model'])"
      ]
    },
    {
      "cell_type": "code",
      "execution_count": 15,
      "metadata": {
        "colab": {
          "base_uri": "https://localhost:8080/",
          "height": 426
        },
        "id": "BYMNOuw5zGQQ",
        "outputId": "1b13d056-f31b-4504-ff9d-efb7e397e7f4"
      },
      "outputs": [
        {
          "data": {
            "text/html": [
              "<div>\n",
              "<style scoped>\n",
              "    .dataframe tbody tr th:only-of-type {\n",
              "        vertical-align: middle;\n",
              "    }\n",
              "\n",
              "    .dataframe tbody tr th {\n",
              "        vertical-align: top;\n",
              "    }\n",
              "\n",
              "    .dataframe thead th {\n",
              "        text-align: right;\n",
              "    }\n",
              "</style>\n",
              "<table border=\"1\" class=\"dataframe\">\n",
              "  <thead>\n",
              "    <tr style=\"text-align: right;\">\n",
              "      <th></th>\n",
              "      <th>Price</th>\n",
              "    </tr>\n",
              "    <tr>\n",
              "      <th>Category</th>\n",
              "      <th></th>\n",
              "    </tr>\n",
              "  </thead>\n",
              "  <tbody>\n",
              "    <tr>\n",
              "      <th>Cabriolet</th>\n",
              "      <td>22553.944444</td>\n",
              "    </tr>\n",
              "    <tr>\n",
              "      <th>Coupe</th>\n",
              "      <td>20870.140893</td>\n",
              "    </tr>\n",
              "    <tr>\n",
              "      <th>Goods wagon</th>\n",
              "      <td>14852.744186</td>\n",
              "    </tr>\n",
              "    <tr>\n",
              "      <th>Hatchback</th>\n",
              "      <td>17131.334938</td>\n",
              "    </tr>\n",
              "    <tr>\n",
              "      <th>Jeep</th>\n",
              "      <td>26272.613777</td>\n",
              "    </tr>\n",
              "    <tr>\n",
              "      <th>Limousine</th>\n",
              "      <td>23332.800000</td>\n",
              "    </tr>\n",
              "    <tr>\n",
              "      <th>Microbus</th>\n",
              "      <td>20002.225664</td>\n",
              "    </tr>\n",
              "    <tr>\n",
              "      <th>Minivan</th>\n",
              "      <td>23854.704255</td>\n",
              "    </tr>\n",
              "    <tr>\n",
              "      <th>Pickup</th>\n",
              "      <td>26563.200000</td>\n",
              "    </tr>\n",
              "    <tr>\n",
              "      <th>Sedan</th>\n",
              "      <td>19142.838166</td>\n",
              "    </tr>\n",
              "    <tr>\n",
              "      <th>Universal</th>\n",
              "      <td>27418.609649</td>\n",
              "    </tr>\n",
              "  </tbody>\n",
              "</table>\n",
              "</div>"
            ],
            "text/plain": [
              "                    Price\n",
              "Category                 \n",
              "Cabriolet    22553.944444\n",
              "Coupe        20870.140893\n",
              "Goods wagon  14852.744186\n",
              "Hatchback    17131.334938\n",
              "Jeep         26272.613777\n",
              "Limousine    23332.800000\n",
              "Microbus     20002.225664\n",
              "Minivan      23854.704255\n",
              "Pickup       26563.200000\n",
              "Sedan        19142.838166\n",
              "Universal    27418.609649"
            ]
          },
          "execution_count": 15,
          "metadata": {},
          "output_type": "execute_result"
        }
      ],
      "source": [
        "# Calculate the mean price of cars within each 'Category' and store the result in 'mean_price_category'.\n",
        "\n",
        "mean_price_category = df[['Category', 'Price']].groupby('Category').mean()\n",
        "mean_price_category"
      ]
    },
    {
      "cell_type": "code",
      "execution_count": 16,
      "metadata": {
        "colab": {
          "base_uri": "https://localhost:8080/"
        },
        "id": "sVq8I5ery0eX",
        "outputId": "5f40a5e1-f930-4af9-f1fe-854536299258"
      },
      "outputs": [
        {
          "name": "stdout",
          "output_type": "stream",
          "text": [
            "Categories with less than or equal to 21k mean price:  ['Coupe', 'Goods wagon', 'Hatchback', 'Microbus', 'Sedan']\n",
            "Categories with more than 21k mean price:  ['Cabriolet', 'Jeep', 'Limousine', 'Minivan', 'Pickup', 'Universal']\n"
          ]
        }
      ],
      "source": [
        "# This code categorizes car types into two classes based on their mean prices and prints the results.\n",
        "\n",
        "# Initialize two empty lists 'class_1' and 'class_2' to categorize car types based on mean prices.\n",
        "class_1 = []\n",
        "class_2 = []\n",
        "\n",
        "# Iterate through the 'mean_price_category' DataFrame to categorize car types.\n",
        "\n",
        "for category, mean_price in mean_price_category.iterrows():\n",
        "    if mean_price['Price'] <= 22000:\n",
        "        class_1.append(category)\n",
        "    else:\n",
        "        class_2.append(category)\n",
        "\n",
        "print('Categories with less than or equal to 21k mean price: ', class_1)\n",
        "print('Categories with more than 21k mean price: ', class_2)"
      ]
    },
    {
      "cell_type": "code",
      "execution_count": 17,
      "metadata": {
        "colab": {
          "base_uri": "https://localhost:8080/",
          "height": 652
        },
        "id": "vBvJi0O16MZZ",
        "outputId": "8ea245ad-007f-4368-b5c7-38f57ed7df72"
      },
      "outputs": [
        {
          "data": {
            "text/html": [
              "<div>\n",
              "<style scoped>\n",
              "    .dataframe tbody tr th:only-of-type {\n",
              "        vertical-align: middle;\n",
              "    }\n",
              "\n",
              "    .dataframe tbody tr th {\n",
              "        vertical-align: top;\n",
              "    }\n",
              "\n",
              "    .dataframe thead th {\n",
              "        text-align: right;\n",
              "    }\n",
              "</style>\n",
              "<table border=\"1\" class=\"dataframe\">\n",
              "  <thead>\n",
              "    <tr style=\"text-align: right;\">\n",
              "      <th></th>\n",
              "      <th>Price</th>\n",
              "      <th>Manufacturer</th>\n",
              "      <th>Model</th>\n",
              "      <th>Prod. year</th>\n",
              "      <th>Category</th>\n",
              "      <th>Fuel type</th>\n",
              "      <th>Engine volume</th>\n",
              "      <th>Mileage</th>\n",
              "      <th>Cylinders</th>\n",
              "      <th>Gear box type</th>\n",
              "      <th>Doors</th>\n",
              "      <th>Wheel</th>\n",
              "      <th>Airbags</th>\n",
              "      <th>Manufacturer_encoded</th>\n",
              "      <th>Model_encoded</th>\n",
              "      <th>Has Turbo</th>\n",
              "    </tr>\n",
              "  </thead>\n",
              "  <tbody>\n",
              "    <tr>\n",
              "      <th>0</th>\n",
              "      <td>13328</td>\n",
              "      <td>LEXUS</td>\n",
              "      <td>RX 450</td>\n",
              "      <td>2010</td>\n",
              "      <td>Jeep</td>\n",
              "      <td>Hybrid</td>\n",
              "      <td>3.5</td>\n",
              "      <td>186005 km</td>\n",
              "      <td>6.0</td>\n",
              "      <td>Automatic</td>\n",
              "      <td>04-May</td>\n",
              "      <td>Left wheel</td>\n",
              "      <td>12</td>\n",
              "      <td>11</td>\n",
              "      <td>805</td>\n",
              "      <td>0</td>\n",
              "    </tr>\n",
              "    <tr>\n",
              "      <th>1</th>\n",
              "      <td>16621</td>\n",
              "      <td>CHEVROLET</td>\n",
              "      <td>Equinox</td>\n",
              "      <td>2011</td>\n",
              "      <td>Jeep</td>\n",
              "      <td>Petrol</td>\n",
              "      <td>3.0</td>\n",
              "      <td>192000 km</td>\n",
              "      <td>6.0</td>\n",
              "      <td>Tiptronic</td>\n",
              "      <td>04-May</td>\n",
              "      <td>Left wheel</td>\n",
              "      <td>8</td>\n",
              "      <td>2</td>\n",
              "      <td>415</td>\n",
              "      <td>0</td>\n",
              "    </tr>\n",
              "    <tr>\n",
              "      <th>4</th>\n",
              "      <td>11726</td>\n",
              "      <td>HONDA</td>\n",
              "      <td>FIT</td>\n",
              "      <td>2014</td>\n",
              "      <td>Hatchback</td>\n",
              "      <td>Petrol</td>\n",
              "      <td>1.3</td>\n",
              "      <td>91901 km</td>\n",
              "      <td>4.0</td>\n",
              "      <td>Automatic</td>\n",
              "      <td>04-May</td>\n",
              "      <td>Left wheel</td>\n",
              "      <td>4</td>\n",
              "      <td>6</td>\n",
              "      <td>432</td>\n",
              "      <td>0</td>\n",
              "    </tr>\n",
              "    <tr>\n",
              "      <th>5</th>\n",
              "      <td>39493</td>\n",
              "      <td>HYUNDAI</td>\n",
              "      <td>Santa FE</td>\n",
              "      <td>2016</td>\n",
              "      <td>Jeep</td>\n",
              "      <td>Diesel</td>\n",
              "      <td>2.0</td>\n",
              "      <td>160931 km</td>\n",
              "      <td>4.0</td>\n",
              "      <td>Automatic</td>\n",
              "      <td>04-May</td>\n",
              "      <td>Left wheel</td>\n",
              "      <td>4</td>\n",
              "      <td>7</td>\n",
              "      <td>836</td>\n",
              "      <td>0</td>\n",
              "    </tr>\n",
              "    <tr>\n",
              "      <th>9</th>\n",
              "      <td>26657</td>\n",
              "      <td>LEXUS</td>\n",
              "      <td>RX 350</td>\n",
              "      <td>2007</td>\n",
              "      <td>Jeep</td>\n",
              "      <td>Petrol</td>\n",
              "      <td>3.5</td>\n",
              "      <td>128500 km</td>\n",
              "      <td>6.0</td>\n",
              "      <td>Automatic</td>\n",
              "      <td>04-May</td>\n",
              "      <td>Left wheel</td>\n",
              "      <td>12</td>\n",
              "      <td>11</td>\n",
              "      <td>799</td>\n",
              "      <td>0</td>\n",
              "    </tr>\n",
              "    <tr>\n",
              "      <th>...</th>\n",
              "      <td>...</td>\n",
              "      <td>...</td>\n",
              "      <td>...</td>\n",
              "      <td>...</td>\n",
              "      <td>...</td>\n",
              "      <td>...</td>\n",
              "      <td>...</td>\n",
              "      <td>...</td>\n",
              "      <td>...</td>\n",
              "      <td>...</td>\n",
              "      <td>...</td>\n",
              "      <td>...</td>\n",
              "      <td>...</td>\n",
              "      <td>...</td>\n",
              "      <td>...</td>\n",
              "      <td>...</td>\n",
              "    </tr>\n",
              "    <tr>\n",
              "      <th>19222</th>\n",
              "      <td>10036</td>\n",
              "      <td>HYUNDAI</td>\n",
              "      <td>Sonata</td>\n",
              "      <td>2014</td>\n",
              "      <td>Sedan</td>\n",
              "      <td>LPG</td>\n",
              "      <td>2.0</td>\n",
              "      <td>735970 km</td>\n",
              "      <td>4.0</td>\n",
              "      <td>Automatic</td>\n",
              "      <td>04-May</td>\n",
              "      <td>Left wheel</td>\n",
              "      <td>4</td>\n",
              "      <td>7</td>\n",
              "      <td>852</td>\n",
              "      <td>0</td>\n",
              "    </tr>\n",
              "    <tr>\n",
              "      <th>19224</th>\n",
              "      <td>19130</td>\n",
              "      <td>KIA</td>\n",
              "      <td>Optima ex</td>\n",
              "      <td>2014</td>\n",
              "      <td>Sedan</td>\n",
              "      <td>Petrol</td>\n",
              "      <td>2.4</td>\n",
              "      <td>35800 km</td>\n",
              "      <td>4.0</td>\n",
              "      <td>Automatic</td>\n",
              "      <td>04-May</td>\n",
              "      <td>Left wheel</td>\n",
              "      <td>12</td>\n",
              "      <td>10</td>\n",
              "      <td>690</td>\n",
              "      <td>0</td>\n",
              "    </tr>\n",
              "    <tr>\n",
              "      <th>19227</th>\n",
              "      <td>29793</td>\n",
              "      <td>MERCEDES-BENZ</td>\n",
              "      <td>E 350</td>\n",
              "      <td>2014</td>\n",
              "      <td>Sedan</td>\n",
              "      <td>Diesel</td>\n",
              "      <td>3.5</td>\n",
              "      <td>219030 km</td>\n",
              "      <td>6.0</td>\n",
              "      <td>Automatic</td>\n",
              "      <td>04-May</td>\n",
              "      <td>Left wheel</td>\n",
              "      <td>12</td>\n",
              "      <td>13</td>\n",
              "      <td>369</td>\n",
              "      <td>0</td>\n",
              "    </tr>\n",
              "    <tr>\n",
              "      <th>19233</th>\n",
              "      <td>15681</td>\n",
              "      <td>HYUNDAI</td>\n",
              "      <td>Sonata</td>\n",
              "      <td>2011</td>\n",
              "      <td>Sedan</td>\n",
              "      <td>Petrol</td>\n",
              "      <td>2.4</td>\n",
              "      <td>161600 km</td>\n",
              "      <td>4.0</td>\n",
              "      <td>Tiptronic</td>\n",
              "      <td>04-May</td>\n",
              "      <td>Left wheel</td>\n",
              "      <td>8</td>\n",
              "      <td>7</td>\n",
              "      <td>852</td>\n",
              "      <td>0</td>\n",
              "    </tr>\n",
              "    <tr>\n",
              "      <th>19234</th>\n",
              "      <td>26108</td>\n",
              "      <td>HYUNDAI</td>\n",
              "      <td>Tucson</td>\n",
              "      <td>2010</td>\n",
              "      <td>Jeep</td>\n",
              "      <td>Diesel</td>\n",
              "      <td>2.0</td>\n",
              "      <td>116365 km</td>\n",
              "      <td>4.0</td>\n",
              "      <td>Automatic</td>\n",
              "      <td>04-May</td>\n",
              "      <td>Left wheel</td>\n",
              "      <td>4</td>\n",
              "      <td>7</td>\n",
              "      <td>926</td>\n",
              "      <td>0</td>\n",
              "    </tr>\n",
              "  </tbody>\n",
              "</table>\n",
              "<p>10411 rows × 16 columns</p>\n",
              "</div>"
            ],
            "text/plain": [
              "       Price   Manufacturer      Model  Prod. year   Category Fuel type  \\\n",
              "0      13328          LEXUS     RX 450        2010       Jeep    Hybrid   \n",
              "1      16621      CHEVROLET    Equinox        2011       Jeep    Petrol   \n",
              "4      11726          HONDA        FIT        2014  Hatchback    Petrol   \n",
              "5      39493        HYUNDAI   Santa FE        2016       Jeep    Diesel   \n",
              "9      26657          LEXUS     RX 350        2007       Jeep    Petrol   \n",
              "...      ...            ...        ...         ...        ...       ...   \n",
              "19222  10036        HYUNDAI     Sonata        2014      Sedan       LPG   \n",
              "19224  19130            KIA  Optima ex        2014      Sedan    Petrol   \n",
              "19227  29793  MERCEDES-BENZ      E 350        2014      Sedan    Diesel   \n",
              "19233  15681        HYUNDAI     Sonata        2011      Sedan    Petrol   \n",
              "19234  26108        HYUNDAI     Tucson        2010       Jeep    Diesel   \n",
              "\n",
              "       Engine volume    Mileage  Cylinders Gear box type   Doors       Wheel  \\\n",
              "0                3.5  186005 km        6.0     Automatic  04-May  Left wheel   \n",
              "1                3.0  192000 km        6.0     Tiptronic  04-May  Left wheel   \n",
              "4                1.3   91901 km        4.0     Automatic  04-May  Left wheel   \n",
              "5                2.0  160931 km        4.0     Automatic  04-May  Left wheel   \n",
              "9                3.5  128500 km        6.0     Automatic  04-May  Left wheel   \n",
              "...              ...        ...        ...           ...     ...         ...   \n",
              "19222            2.0  735970 km        4.0     Automatic  04-May  Left wheel   \n",
              "19224            2.4   35800 km        4.0     Automatic  04-May  Left wheel   \n",
              "19227            3.5  219030 km        6.0     Automatic  04-May  Left wheel   \n",
              "19233            2.4  161600 km        4.0     Tiptronic  04-May  Left wheel   \n",
              "19234            2.0  116365 km        4.0     Automatic  04-May  Left wheel   \n",
              "\n",
              "       Airbags  Manufacturer_encoded  Model_encoded  Has Turbo  \n",
              "0           12                    11            805          0  \n",
              "1            8                     2            415          0  \n",
              "4            4                     6            432          0  \n",
              "5            4                     7            836          0  \n",
              "9           12                    11            799          0  \n",
              "...        ...                   ...            ...        ...  \n",
              "19222        4                     7            852          0  \n",
              "19224       12                    10            690          0  \n",
              "19227       12                    13            369          0  \n",
              "19233        8                     7            852          0  \n",
              "19234        4                     7            926          0  \n",
              "\n",
              "[10411 rows x 16 columns]"
            ]
          },
          "execution_count": 17,
          "metadata": {},
          "output_type": "execute_result"
        }
      ],
      "source": [
        "## changing datatypes of engine volumn to float\n",
        "df['Has Turbo'] = df['Engine volume'].str.contains('Turbo').astype(int)\n",
        "df['Engine volume'] = df['Engine volume'].str.replace(' Turbo', '')\n",
        "df['Engine volume'] = df['Engine volume'].astype(float)\n",
        "df"
      ]
    },
    {
      "cell_type": "code",
      "execution_count": 18,
      "metadata": {},
      "outputs": [
        {
          "data": {
            "text/plain": [
              "(9839, 16)"
            ]
          },
          "execution_count": 18,
          "metadata": {},
          "output_type": "execute_result"
        }
      ],
      "source": [
        "column_name = 'Engine volume'\n",
        "\n",
        "# Calculate the lower and upper bounds for outliers (e.g., using the IQR method)\n",
        "Q1 = df[column_name].quantile(0.25)\n",
        "Q3 = df[column_name].quantile(0.75)\n",
        "IQR = Q3 - Q1\n",
        "lower_bound = Q1 - 1.5 * IQR\n",
        "upper_bound = Q3 + 1.5 * IQR\n",
        "\n",
        "# Create a boolean mask to identify outliers\n",
        "outlier_mask = (df[column_name] < lower_bound) | (df[column_name] > upper_bound)\n",
        "\n",
        "# Use the mask to drop the outliers from the DataFrame\n",
        "df = df[~outlier_mask]\n",
        "df.shape"
      ]
    },
    {
      "cell_type": "code",
      "execution_count": 19,
      "metadata": {
        "colab": {
          "base_uri": "https://localhost:8080/"
        },
        "id": "U9eqNcff6SKw",
        "outputId": "78974936-5579-4163-b2f4-f119aa61d615"
      },
      "outputs": [
        {
          "data": {
            "text/plain": [
              "Has Turbo\n",
              "0    8534\n",
              "1    1305\n",
              "Name: count, dtype: int64"
            ]
          },
          "execution_count": 19,
          "metadata": {},
          "output_type": "execute_result"
        }
      ],
      "source": [
        "## Display count of all values for column name \"Has Turbo\"\n",
        "df['Has Turbo'].value_counts()"
      ]
    },
    {
      "cell_type": "code",
      "execution_count": 20,
      "metadata": {
        "colab": {
          "base_uri": "https://localhost:8080/"
        },
        "id": "ULe37Dv2y6rI",
        "outputId": "16b79453-f8b0-4306-89bc-3bc15079b0cc"
      },
      "outputs": [
        {
          "name": "stderr",
          "output_type": "stream",
          "text": [
            "C:\\Users\\DELL\\AppData\\Local\\Temp\\ipykernel_14624\\3096875476.py:12: SettingWithCopyWarning: \n",
            "A value is trying to be set on a copy of a slice from a DataFrame.\n",
            "Try using .loc[row_indexer,col_indexer] = value instead\n",
            "\n",
            "See the caveats in the documentation: https://pandas.pydata.org/pandas-docs/stable/user_guide/indexing.html#returning-a-view-versus-a-copy\n",
            "  df['Category_encoded'] = new_category_data\n"
          ]
        },
        {
          "data": {
            "text/plain": [
              "0        2\n",
              "1        2\n",
              "4        1\n",
              "5        2\n",
              "9        2\n",
              "        ..\n",
              "19222    1\n",
              "19224    1\n",
              "19227    1\n",
              "19233    1\n",
              "19234    2\n",
              "Name: Category_encoded, Length: 9839, dtype: int64"
            ]
          },
          "execution_count": 20,
          "metadata": {},
          "output_type": "execute_result"
        }
      ],
      "source": [
        "### Modifying the Category column in the dataset\n",
        "\n",
        "category_data = df['Category']\n",
        "new_category_data = []\n",
        "\n",
        "for value in category_data:\n",
        "    if value in class_1:\n",
        "        new_category_data.append(1)\n",
        "    else:\n",
        "        new_category_data.append(2)\n",
        "\n",
        "df['Category_encoded'] = new_category_data\n",
        "df['Category_encoded']"
      ]
    },
    {
      "cell_type": "code",
      "execution_count": 21,
      "metadata": {
        "colab": {
          "base_uri": "https://localhost:8080/"
        },
        "id": "eXIeMdet0E-C",
        "outputId": "7839de40-17a6-4b7a-c67e-1ceccd0e4e5b"
      },
      "outputs": [
        {
          "data": {
            "text/plain": [
              "Fuel type\n",
              "Petrol            4758\n",
              "Diesel            2619\n",
              "Hybrid            1724\n",
              "LPG                569\n",
              "CNG                 89\n",
              "Plug-in Hybrid      79\n",
              "Hydrogen             1\n",
              "Name: count, dtype: int64"
            ]
          },
          "execution_count": 21,
          "metadata": {},
          "output_type": "execute_result"
        }
      ],
      "source": [
        "## Display count of all values for column name \"Fuel Type\"\n",
        "\n",
        "df['Fuel type'].value_counts()"
      ]
    },
    {
      "cell_type": "code",
      "execution_count": 22,
      "metadata": {
        "colab": {
          "base_uri": "https://localhost:8080/"
        },
        "id": "jgZsRE5D0VbY",
        "outputId": "ee19b94b-9dd3-4657-942d-63446f03e4dd"
      },
      "outputs": [
        {
          "data": {
            "text/plain": [
              "{'CNG', 'Diesel', 'LPG', 'Other', 'Petrol'}"
            ]
          },
          "execution_count": 22,
          "metadata": {},
          "output_type": "execute_result"
        }
      ],
      "source": [
        "### Creating the new fuel type data\n",
        "\n",
        "fuel_type_data = df['Fuel type']\n",
        "new_fuel_type_data = []\n",
        "\n",
        "for value in fuel_type_data:\n",
        "    if value in {'Hybrid', 'Hydrogen', 'Plug-in Hybrid'}:\n",
        "        new_fuel_type_data.append('Other')\n",
        "    else:\n",
        "        new_fuel_type_data.append(value)\n",
        "\n",
        "set(new_fuel_type_data)"
      ]
    },
    {
      "cell_type": "code",
      "execution_count": 23,
      "metadata": {
        "colab": {
          "base_uri": "https://localhost:8080/"
        },
        "id": "5fA1RoKX0YsB",
        "outputId": "f1a9c344-81d7-4986-c436-532a10e58545"
      },
      "outputs": [
        {
          "name": "stderr",
          "output_type": "stream",
          "text": [
            "C:\\Users\\DELL\\AppData\\Local\\Temp\\ipykernel_14624\\2366626464.py:4: SettingWithCopyWarning: \n",
            "A value is trying to be set on a copy of a slice from a DataFrame.\n",
            "Try using .loc[row_indexer,col_indexer] = value instead\n",
            "\n",
            "See the caveats in the documentation: https://pandas.pydata.org/pandas-docs/stable/user_guide/indexing.html#returning-a-view-versus-a-copy\n",
            "  df['Fuel type'] = new_fuel_type_data\n"
          ]
        },
        {
          "data": {
            "text/plain": [
              "Fuel type\n",
              "Petrol    4758\n",
              "Diesel    2619\n",
              "Other     1804\n",
              "LPG        569\n",
              "CNG         89\n",
              "Name: count, dtype: int64"
            ]
          },
          "execution_count": 23,
          "metadata": {},
          "output_type": "execute_result"
        }
      ],
      "source": [
        "\n",
        "# This code updates the 'Fuel type' column in the DataFrame with new fuel type data and then counts the occurrences\n",
        "# of each fuel type, displaying the counts.\n",
        "\n",
        "df['Fuel type'] = new_fuel_type_data\n",
        "df['Fuel type'].value_counts()"
      ]
    },
    {
      "cell_type": "code",
      "execution_count": 24,
      "metadata": {},
      "outputs": [
        {
          "data": {
            "text/plain": [
              "Gear box type\n",
              "Automatic    6480\n",
              "Tiptronic    2114\n",
              "Manual        730\n",
              "Variator      515\n",
              "Name: count, dtype: int64"
            ]
          },
          "execution_count": 24,
          "metadata": {},
          "output_type": "execute_result"
        }
      ],
      "source": [
        "df['Gear box type'].value_counts()"
      ]
    },
    {
      "cell_type": "code",
      "execution_count": 25,
      "metadata": {
        "colab": {
          "base_uri": "https://localhost:8080/"
        },
        "id": "rU-nE6P70nUJ",
        "outputId": "10ada848-9b18-4d06-d51e-645c93fdf142"
      },
      "outputs": [
        {
          "data": {
            "text/plain": [
              "{1, 2}"
            ]
          },
          "execution_count": 25,
          "metadata": {},
          "output_type": "execute_result"
        }
      ],
      "source": [
        "### Seperating the categories into class 1 and 2\n",
        "\n",
        "gear_box_data = df['Gear box type']\n",
        "new_gear_box_data = []\n",
        "\n",
        "for value in gear_box_data:\n",
        "    if value in {'Automatic', 'Variator'}:\n",
        "        new_gear_box_data.append(1)\n",
        "    else:\n",
        "        new_gear_box_data.append(2)\n",
        "\n",
        "set(new_gear_box_data)"
      ]
    },
    {
      "cell_type": "code",
      "execution_count": 26,
      "metadata": {
        "colab": {
          "base_uri": "https://localhost:8080/"
        },
        "id": "c_v838cM0c8p",
        "outputId": "b38a0c1d-b823-4f27-e356-f2f7fca1f567"
      },
      "outputs": [
        {
          "name": "stderr",
          "output_type": "stream",
          "text": [
            "C:\\Users\\DELL\\AppData\\Local\\Temp\\ipykernel_14624\\4047289711.py:4: SettingWithCopyWarning: \n",
            "A value is trying to be set on a copy of a slice from a DataFrame.\n",
            "Try using .loc[row_indexer,col_indexer] = value instead\n",
            "\n",
            "See the caveats in the documentation: https://pandas.pydata.org/pandas-docs/stable/user_guide/indexing.html#returning-a-view-versus-a-copy\n",
            "  df['Gear box type'] = new_gear_box_data\n"
          ]
        },
        {
          "data": {
            "text/plain": [
              "Gear box type\n",
              "1    6995\n",
              "2    2844\n",
              "Name: count, dtype: int64"
            ]
          },
          "execution_count": 26,
          "metadata": {},
          "output_type": "execute_result"
        }
      ],
      "source": [
        "\n",
        "# This code updates the 'Gear box type' column in the DataFrame with new gear box type data and then counts the occurrences\n",
        "# of each gear box type, displaying the counts.\n",
        "\n",
        "df['Gear box type'] = new_gear_box_data\n",
        "df['Gear box type'].value_counts()"
      ]
    },
    {
      "cell_type": "code",
      "execution_count": 27,
      "metadata": {
        "colab": {
          "base_uri": "https://localhost:8080/"
        },
        "id": "RILuCh581PyY",
        "outputId": "f3f9cf81-4412-43a9-d384-2594a8adf29a"
      },
      "outputs": [
        {
          "data": {
            "text/plain": [
              "{'2-3', '4-5', '>5'}"
            ]
          },
          "execution_count": 27,
          "metadata": {},
          "output_type": "execute_result"
        }
      ],
      "source": [
        "### Creating the new Doors data\n",
        "\n",
        "doors_data = df['Doors']\n",
        "new_doors_data = []\n",
        "\n",
        "for value in doors_data:\n",
        "    if value == '04-May':\n",
        "        new_doors_data.append('4-5')\n",
        "    elif value == '02-Mar':\n",
        "        new_doors_data.append('2-3')\n",
        "    else:\n",
        "        new_doors_data.append(value)\n",
        "\n",
        "set(new_doors_data)"
      ]
    },
    {
      "cell_type": "code",
      "execution_count": 28,
      "metadata": {
        "colab": {
          "base_uri": "https://localhost:8080/"
        },
        "id": "AjkX9mOv1TMl",
        "outputId": "cd8f9122-e09f-4d72-8cc6-396c27c1225d"
      },
      "outputs": [
        {
          "name": "stderr",
          "output_type": "stream",
          "text": [
            "C:\\Users\\DELL\\AppData\\Local\\Temp\\ipykernel_14624\\2213223888.py:4: SettingWithCopyWarning: \n",
            "A value is trying to be set on a copy of a slice from a DataFrame.\n",
            "Try using .loc[row_indexer,col_indexer] = value instead\n",
            "\n",
            "See the caveats in the documentation: https://pandas.pydata.org/pandas-docs/stable/user_guide/indexing.html#returning-a-view-versus-a-copy\n",
            "  df['Doors'] = new_doors_data\n"
          ]
        },
        {
          "data": {
            "text/plain": [
              "Doors\n",
              "4-5    9447\n",
              "2-3     317\n",
              ">5       75\n",
              "Name: count, dtype: int64"
            ]
          },
          "execution_count": 28,
          "metadata": {},
          "output_type": "execute_result"
        }
      ],
      "source": [
        "# This code updates the 'Doors' column in the DataFrame with new doors data and then counts the occurrences of each\n",
        "# number of doors, displaying the counts.\n",
        "\n",
        "df['Doors'] = new_doors_data\n",
        "df['Doors'].value_counts()"
      ]
    },
    {
      "cell_type": "code",
      "execution_count": 29,
      "metadata": {
        "colab": {
          "base_uri": "https://localhost:8080/"
        },
        "id": "OjBpS8t41Z8e",
        "outputId": "189d76d5-6e7a-467d-e3fe-0d21b91d3fc0"
      },
      "outputs": [
        {
          "data": {
            "text/plain": [
              "36"
            ]
          },
          "execution_count": 29,
          "metadata": {},
          "output_type": "execute_result"
        }
      ],
      "source": [
        "### Creating the Age data\n",
        "\n",
        "year_data = df['Prod. year']\n",
        "age_data = []\n",
        "\n",
        "for value in year_data:\n",
        "    age_data.append(2023 - value)\n",
        "\n",
        "len(set(age_data))"
      ]
    },
    {
      "cell_type": "code",
      "execution_count": 30,
      "metadata": {
        "colab": {
          "base_uri": "https://localhost:8080/"
        },
        "id": "KZk-BMUO1fE2",
        "outputId": "e71ea01f-2c06-4aaa-c0fc-225722462451"
      },
      "outputs": [
        {
          "name": "stderr",
          "output_type": "stream",
          "text": [
            "C:\\Users\\DELL\\AppData\\Local\\Temp\\ipykernel_14624\\2157643949.py:2: SettingWithCopyWarning: \n",
            "A value is trying to be set on a copy of a slice from a DataFrame.\n",
            "Try using .loc[row_indexer,col_indexer] = value instead\n",
            "\n",
            "See the caveats in the documentation: https://pandas.pydata.org/pandas-docs/stable/user_guide/indexing.html#returning-a-view-versus-a-copy\n",
            "  df['Age'] = age_data\n"
          ]
        },
        {
          "data": {
            "text/plain": [
              "Age\n",
              "9     1291\n",
              "11    1223\n",
              "10    1121\n",
              "7      955\n",
              "12     952\n",
              "13     852\n",
              "8      850\n",
              "6      480\n",
              "15     352\n",
              "14     313\n",
              "16     260\n",
              "5      205\n",
              "17     161\n",
              "19     152\n",
              "18     149\n",
              "20     101\n",
              "21      91\n",
              "4       85\n",
              "22      70\n",
              "23      55\n",
              "25      29\n",
              "24      25\n",
              "26      21\n",
              "27      13\n",
              "3       12\n",
              "28       7\n",
              "33       2\n",
              "29       2\n",
              "31       2\n",
              "36       2\n",
              "30       1\n",
              "46       1\n",
              "39       1\n",
              "35       1\n",
              "41       1\n",
              "70       1\n",
              "Name: count, dtype: int64"
            ]
          },
          "execution_count": 30,
          "metadata": {},
          "output_type": "execute_result"
        }
      ],
      "source": [
        "### This code assigns the 'age_data' to the 'Age' column and then counts and displays the occurrences of each age value in the DataFrame.\n",
        "df['Age'] = age_data\n",
        "df['Age'].value_counts()"
      ]
    },
    {
      "cell_type": "code",
      "execution_count": 31,
      "metadata": {
        "colab": {
          "base_uri": "https://localhost:8080/",
          "height": 353
        },
        "id": "X4l1xit61kNi",
        "outputId": "fd1f136c-a7da-43bb-b898-3560d93dee3b"
      },
      "outputs": [
        {
          "name": "stderr",
          "output_type": "stream",
          "text": [
            "C:\\Users\\DELL\\AppData\\Local\\Temp\\ipykernel_14624\\2594579919.py:1: SettingWithCopyWarning: \n",
            "A value is trying to be set on a copy of a slice from a DataFrame\n",
            "\n",
            "See the caveats in the documentation: https://pandas.pydata.org/pandas-docs/stable/user_guide/indexing.html#returning-a-view-versus-a-copy\n",
            "  df.drop(['Prod. year'], axis = 1, inplace = True)\n"
          ]
        },
        {
          "data": {
            "text/html": [
              "<div>\n",
              "<style scoped>\n",
              "    .dataframe tbody tr th:only-of-type {\n",
              "        vertical-align: middle;\n",
              "    }\n",
              "\n",
              "    .dataframe tbody tr th {\n",
              "        vertical-align: top;\n",
              "    }\n",
              "\n",
              "    .dataframe thead th {\n",
              "        text-align: right;\n",
              "    }\n",
              "</style>\n",
              "<table border=\"1\" class=\"dataframe\">\n",
              "  <thead>\n",
              "    <tr style=\"text-align: right;\">\n",
              "      <th></th>\n",
              "      <th>Price</th>\n",
              "      <th>Manufacturer</th>\n",
              "      <th>Model</th>\n",
              "      <th>Category</th>\n",
              "      <th>Fuel type</th>\n",
              "      <th>Engine volume</th>\n",
              "      <th>Mileage</th>\n",
              "      <th>Cylinders</th>\n",
              "      <th>Gear box type</th>\n",
              "      <th>Doors</th>\n",
              "      <th>Wheel</th>\n",
              "      <th>Airbags</th>\n",
              "      <th>Manufacturer_encoded</th>\n",
              "      <th>Model_encoded</th>\n",
              "      <th>Has Turbo</th>\n",
              "      <th>Category_encoded</th>\n",
              "      <th>Age</th>\n",
              "    </tr>\n",
              "  </thead>\n",
              "  <tbody>\n",
              "    <tr>\n",
              "      <th>0</th>\n",
              "      <td>13328</td>\n",
              "      <td>LEXUS</td>\n",
              "      <td>RX 450</td>\n",
              "      <td>Jeep</td>\n",
              "      <td>Other</td>\n",
              "      <td>3.5</td>\n",
              "      <td>186005 km</td>\n",
              "      <td>6.0</td>\n",
              "      <td>1</td>\n",
              "      <td>4-5</td>\n",
              "      <td>Left wheel</td>\n",
              "      <td>12</td>\n",
              "      <td>11</td>\n",
              "      <td>805</td>\n",
              "      <td>0</td>\n",
              "      <td>2</td>\n",
              "      <td>13</td>\n",
              "    </tr>\n",
              "    <tr>\n",
              "      <th>1</th>\n",
              "      <td>16621</td>\n",
              "      <td>CHEVROLET</td>\n",
              "      <td>Equinox</td>\n",
              "      <td>Jeep</td>\n",
              "      <td>Petrol</td>\n",
              "      <td>3.0</td>\n",
              "      <td>192000 km</td>\n",
              "      <td>6.0</td>\n",
              "      <td>2</td>\n",
              "      <td>4-5</td>\n",
              "      <td>Left wheel</td>\n",
              "      <td>8</td>\n",
              "      <td>2</td>\n",
              "      <td>415</td>\n",
              "      <td>0</td>\n",
              "      <td>2</td>\n",
              "      <td>12</td>\n",
              "    </tr>\n",
              "    <tr>\n",
              "      <th>4</th>\n",
              "      <td>11726</td>\n",
              "      <td>HONDA</td>\n",
              "      <td>FIT</td>\n",
              "      <td>Hatchback</td>\n",
              "      <td>Petrol</td>\n",
              "      <td>1.3</td>\n",
              "      <td>91901 km</td>\n",
              "      <td>4.0</td>\n",
              "      <td>1</td>\n",
              "      <td>4-5</td>\n",
              "      <td>Left wheel</td>\n",
              "      <td>4</td>\n",
              "      <td>6</td>\n",
              "      <td>432</td>\n",
              "      <td>0</td>\n",
              "      <td>1</td>\n",
              "      <td>9</td>\n",
              "    </tr>\n",
              "    <tr>\n",
              "      <th>5</th>\n",
              "      <td>39493</td>\n",
              "      <td>HYUNDAI</td>\n",
              "      <td>Santa FE</td>\n",
              "      <td>Jeep</td>\n",
              "      <td>Diesel</td>\n",
              "      <td>2.0</td>\n",
              "      <td>160931 km</td>\n",
              "      <td>4.0</td>\n",
              "      <td>1</td>\n",
              "      <td>4-5</td>\n",
              "      <td>Left wheel</td>\n",
              "      <td>4</td>\n",
              "      <td>7</td>\n",
              "      <td>836</td>\n",
              "      <td>0</td>\n",
              "      <td>2</td>\n",
              "      <td>7</td>\n",
              "    </tr>\n",
              "    <tr>\n",
              "      <th>9</th>\n",
              "      <td>26657</td>\n",
              "      <td>LEXUS</td>\n",
              "      <td>RX 350</td>\n",
              "      <td>Jeep</td>\n",
              "      <td>Petrol</td>\n",
              "      <td>3.5</td>\n",
              "      <td>128500 km</td>\n",
              "      <td>6.0</td>\n",
              "      <td>1</td>\n",
              "      <td>4-5</td>\n",
              "      <td>Left wheel</td>\n",
              "      <td>12</td>\n",
              "      <td>11</td>\n",
              "      <td>799</td>\n",
              "      <td>0</td>\n",
              "      <td>2</td>\n",
              "      <td>16</td>\n",
              "    </tr>\n",
              "    <tr>\n",
              "      <th>...</th>\n",
              "      <td>...</td>\n",
              "      <td>...</td>\n",
              "      <td>...</td>\n",
              "      <td>...</td>\n",
              "      <td>...</td>\n",
              "      <td>...</td>\n",
              "      <td>...</td>\n",
              "      <td>...</td>\n",
              "      <td>...</td>\n",
              "      <td>...</td>\n",
              "      <td>...</td>\n",
              "      <td>...</td>\n",
              "      <td>...</td>\n",
              "      <td>...</td>\n",
              "      <td>...</td>\n",
              "      <td>...</td>\n",
              "      <td>...</td>\n",
              "    </tr>\n",
              "    <tr>\n",
              "      <th>19222</th>\n",
              "      <td>10036</td>\n",
              "      <td>HYUNDAI</td>\n",
              "      <td>Sonata</td>\n",
              "      <td>Sedan</td>\n",
              "      <td>LPG</td>\n",
              "      <td>2.0</td>\n",
              "      <td>735970 km</td>\n",
              "      <td>4.0</td>\n",
              "      <td>1</td>\n",
              "      <td>4-5</td>\n",
              "      <td>Left wheel</td>\n",
              "      <td>4</td>\n",
              "      <td>7</td>\n",
              "      <td>852</td>\n",
              "      <td>0</td>\n",
              "      <td>1</td>\n",
              "      <td>9</td>\n",
              "    </tr>\n",
              "    <tr>\n",
              "      <th>19224</th>\n",
              "      <td>19130</td>\n",
              "      <td>KIA</td>\n",
              "      <td>Optima ex</td>\n",
              "      <td>Sedan</td>\n",
              "      <td>Petrol</td>\n",
              "      <td>2.4</td>\n",
              "      <td>35800 km</td>\n",
              "      <td>4.0</td>\n",
              "      <td>1</td>\n",
              "      <td>4-5</td>\n",
              "      <td>Left wheel</td>\n",
              "      <td>12</td>\n",
              "      <td>10</td>\n",
              "      <td>690</td>\n",
              "      <td>0</td>\n",
              "      <td>1</td>\n",
              "      <td>9</td>\n",
              "    </tr>\n",
              "    <tr>\n",
              "      <th>19227</th>\n",
              "      <td>29793</td>\n",
              "      <td>MERCEDES-BENZ</td>\n",
              "      <td>E 350</td>\n",
              "      <td>Sedan</td>\n",
              "      <td>Diesel</td>\n",
              "      <td>3.5</td>\n",
              "      <td>219030 km</td>\n",
              "      <td>6.0</td>\n",
              "      <td>1</td>\n",
              "      <td>4-5</td>\n",
              "      <td>Left wheel</td>\n",
              "      <td>12</td>\n",
              "      <td>13</td>\n",
              "      <td>369</td>\n",
              "      <td>0</td>\n",
              "      <td>1</td>\n",
              "      <td>9</td>\n",
              "    </tr>\n",
              "    <tr>\n",
              "      <th>19233</th>\n",
              "      <td>15681</td>\n",
              "      <td>HYUNDAI</td>\n",
              "      <td>Sonata</td>\n",
              "      <td>Sedan</td>\n",
              "      <td>Petrol</td>\n",
              "      <td>2.4</td>\n",
              "      <td>161600 km</td>\n",
              "      <td>4.0</td>\n",
              "      <td>2</td>\n",
              "      <td>4-5</td>\n",
              "      <td>Left wheel</td>\n",
              "      <td>8</td>\n",
              "      <td>7</td>\n",
              "      <td>852</td>\n",
              "      <td>0</td>\n",
              "      <td>1</td>\n",
              "      <td>12</td>\n",
              "    </tr>\n",
              "    <tr>\n",
              "      <th>19234</th>\n",
              "      <td>26108</td>\n",
              "      <td>HYUNDAI</td>\n",
              "      <td>Tucson</td>\n",
              "      <td>Jeep</td>\n",
              "      <td>Diesel</td>\n",
              "      <td>2.0</td>\n",
              "      <td>116365 km</td>\n",
              "      <td>4.0</td>\n",
              "      <td>1</td>\n",
              "      <td>4-5</td>\n",
              "      <td>Left wheel</td>\n",
              "      <td>4</td>\n",
              "      <td>7</td>\n",
              "      <td>926</td>\n",
              "      <td>0</td>\n",
              "      <td>2</td>\n",
              "      <td>13</td>\n",
              "    </tr>\n",
              "  </tbody>\n",
              "</table>\n",
              "<p>9839 rows × 17 columns</p>\n",
              "</div>"
            ],
            "text/plain": [
              "       Price   Manufacturer      Model   Category Fuel type  Engine volume  \\\n",
              "0      13328          LEXUS     RX 450       Jeep     Other            3.5   \n",
              "1      16621      CHEVROLET    Equinox       Jeep    Petrol            3.0   \n",
              "4      11726          HONDA        FIT  Hatchback    Petrol            1.3   \n",
              "5      39493        HYUNDAI   Santa FE       Jeep    Diesel            2.0   \n",
              "9      26657          LEXUS     RX 350       Jeep    Petrol            3.5   \n",
              "...      ...            ...        ...        ...       ...            ...   \n",
              "19222  10036        HYUNDAI     Sonata      Sedan       LPG            2.0   \n",
              "19224  19130            KIA  Optima ex      Sedan    Petrol            2.4   \n",
              "19227  29793  MERCEDES-BENZ      E 350      Sedan    Diesel            3.5   \n",
              "19233  15681        HYUNDAI     Sonata      Sedan    Petrol            2.4   \n",
              "19234  26108        HYUNDAI     Tucson       Jeep    Diesel            2.0   \n",
              "\n",
              "         Mileage  Cylinders  Gear box type Doors       Wheel  Airbags  \\\n",
              "0      186005 km        6.0              1   4-5  Left wheel       12   \n",
              "1      192000 km        6.0              2   4-5  Left wheel        8   \n",
              "4       91901 km        4.0              1   4-5  Left wheel        4   \n",
              "5      160931 km        4.0              1   4-5  Left wheel        4   \n",
              "9      128500 km        6.0              1   4-5  Left wheel       12   \n",
              "...          ...        ...            ...   ...         ...      ...   \n",
              "19222  735970 km        4.0              1   4-5  Left wheel        4   \n",
              "19224   35800 km        4.0              1   4-5  Left wheel       12   \n",
              "19227  219030 km        6.0              1   4-5  Left wheel       12   \n",
              "19233  161600 km        4.0              2   4-5  Left wheel        8   \n",
              "19234  116365 km        4.0              1   4-5  Left wheel        4   \n",
              "\n",
              "       Manufacturer_encoded  Model_encoded  Has Turbo  Category_encoded  Age  \n",
              "0                        11            805          0                 2   13  \n",
              "1                         2            415          0                 2   12  \n",
              "4                         6            432          0                 1    9  \n",
              "5                         7            836          0                 2    7  \n",
              "9                        11            799          0                 2   16  \n",
              "...                     ...            ...        ...               ...  ...  \n",
              "19222                     7            852          0                 1    9  \n",
              "19224                    10            690          0                 1    9  \n",
              "19227                    13            369          0                 1    9  \n",
              "19233                     7            852          0                 1   12  \n",
              "19234                     7            926          0                 2   13  \n",
              "\n",
              "[9839 rows x 17 columns]"
            ]
          },
          "execution_count": 31,
          "metadata": {},
          "output_type": "execute_result"
        }
      ],
      "source": [
        "\n",
        "df.drop(['Prod. year'], axis = 1, inplace = True)\n",
        "df"
      ]
    },
    {
      "cell_type": "code",
      "execution_count": 32,
      "metadata": {},
      "outputs": [
        {
          "name": "stdout",
          "output_type": "stream",
          "text": [
            "Number of NaN values after conversion: 0\n"
          ]
        },
        {
          "name": "stderr",
          "output_type": "stream",
          "text": [
            "C:\\Users\\DELL\\AppData\\Local\\Temp\\ipykernel_14624\\420262211.py:5: SettingWithCopyWarning: \n",
            "A value is trying to be set on a copy of a slice from a DataFrame.\n",
            "Try using .loc[row_indexer,col_indexer] = value instead\n",
            "\n",
            "See the caveats in the documentation: https://pandas.pydata.org/pandas-docs/stable/user_guide/indexing.html#returning-a-view-versus-a-copy\n",
            "  df['Mileage'] = df['Mileage'].str.replace(' km', '')\n",
            "C:\\Users\\DELL\\AppData\\Local\\Temp\\ipykernel_14624\\420262211.py:8: SettingWithCopyWarning: \n",
            "A value is trying to be set on a copy of a slice from a DataFrame.\n",
            "Try using .loc[row_indexer,col_indexer] = value instead\n",
            "\n",
            "See the caveats in the documentation: https://pandas.pydata.org/pandas-docs/stable/user_guide/indexing.html#returning-a-view-versus-a-copy\n",
            "  df['Mileage'] = pd.to_numeric(df['Mileage'], errors='coerce')\n"
          ]
        }
      ],
      "source": [
        "### this code removes the ' km' suffix from the 'Mileage' column and\n",
        "### then converts the column to a numeric data type for further analysis.\n",
        "\n",
        "\n",
        "df['Mileage'] = df['Mileage'].str.replace(' km', '')\n",
        "\n",
        "# Convert 'Mileage' to numeric type, handling errors with coerce to replace non-numeric values with NaN\n",
        "df['Mileage'] = pd.to_numeric(df['Mileage'], errors='coerce')\n",
        "\n",
        "# Print the number of NaN values after conversion\n",
        "print(\"Number of NaN values after conversion:\", df['Mileage'].isnull().sum())\n"
      ]
    },
    {
      "cell_type": "code",
      "execution_count": 33,
      "metadata": {},
      "outputs": [
        {
          "data": {
            "text/plain": [
              "(9479, 17)"
            ]
          },
          "execution_count": 33,
          "metadata": {},
          "output_type": "execute_result"
        }
      ],
      "source": [
        "column_name = 'Mileage'\n",
        "\n",
        "# Calculate the lower and upper bounds for outliers (e.g., using the IQR method)\n",
        "Q1 = df[column_name].quantile(0.25)\n",
        "Q3 = df[column_name].quantile(0.75)\n",
        "IQR = Q3 - Q1\n",
        "lower_bound = Q1 - 1.5 * IQR\n",
        "upper_bound = Q3 + 1.5 * IQR\n",
        "\n",
        "# Create a boolean mask to identify outliers\n",
        "outlier_mask = (df[column_name] < lower_bound) | (df[column_name] > upper_bound)\n",
        "\n",
        "# Use the mask to drop the outliers from the DataFrame\n",
        "df = df[~outlier_mask]\n",
        "df.shape"
      ]
    },
    {
      "cell_type": "code",
      "execution_count": 34,
      "metadata": {},
      "outputs": [
        {
          "data": {
            "text/plain": [
              "(9479, 17)"
            ]
          },
          "execution_count": 34,
          "metadata": {},
          "output_type": "execute_result"
        }
      ],
      "source": [
        "column_name = 'Engine volume'\n",
        "\n",
        "# Calculate the lower and upper bounds for outliers (e.g., using the IQR method)\n",
        "Q1 = df[column_name].quantile(0.25)\n",
        "Q3 = df[column_name].quantile(0.75)\n",
        "IQR = Q3 - Q1\n",
        "lower_bound = Q1 - 1.5 * IQR\n",
        "upper_bound = Q3 + 1.5 * IQR\n",
        "\n",
        "# Create a boolean mask to identify outliers\n",
        "outlier_mask = (df[column_name] < lower_bound) | (df[column_name] > upper_bound)\n",
        "\n",
        "# Use the mask to drop the outliers from the DataFrame\n",
        "df = df[~outlier_mask]\n",
        "df.shape"
      ]
    },
    {
      "cell_type": "code",
      "execution_count": 35,
      "metadata": {
        "colab": {
          "base_uri": "https://localhost:8080/",
          "height": 652
        },
        "id": "sOyON-kg2spv",
        "outputId": "3a6ad3ce-195f-42ca-893a-f074e4ddd7d6"
      },
      "outputs": [
        {
          "data": {
            "text/html": [
              "<div>\n",
              "<style scoped>\n",
              "    .dataframe tbody tr th:only-of-type {\n",
              "        vertical-align: middle;\n",
              "    }\n",
              "\n",
              "    .dataframe tbody tr th {\n",
              "        vertical-align: top;\n",
              "    }\n",
              "\n",
              "    .dataframe thead th {\n",
              "        text-align: right;\n",
              "    }\n",
              "</style>\n",
              "<table border=\"1\" class=\"dataframe\">\n",
              "  <thead>\n",
              "    <tr style=\"text-align: right;\">\n",
              "      <th></th>\n",
              "      <th>Price</th>\n",
              "      <th>Manufacturer</th>\n",
              "      <th>Model</th>\n",
              "      <th>Category</th>\n",
              "      <th>Engine volume</th>\n",
              "      <th>Mileage</th>\n",
              "      <th>Cylinders</th>\n",
              "      <th>Airbags</th>\n",
              "      <th>Manufacturer_encoded</th>\n",
              "      <th>Model_encoded</th>\n",
              "      <th>...</th>\n",
              "      <th>Fuel type_LPG</th>\n",
              "      <th>Fuel type_Other</th>\n",
              "      <th>Fuel type_Petrol</th>\n",
              "      <th>Gear box type_1</th>\n",
              "      <th>Gear box type_2</th>\n",
              "      <th>Doors_2-3</th>\n",
              "      <th>Doors_4-5</th>\n",
              "      <th>Doors_&gt;5</th>\n",
              "      <th>Wheel_Left wheel</th>\n",
              "      <th>Wheel_Right-hand drive</th>\n",
              "    </tr>\n",
              "  </thead>\n",
              "  <tbody>\n",
              "    <tr>\n",
              "      <th>0</th>\n",
              "      <td>13328</td>\n",
              "      <td>LEXUS</td>\n",
              "      <td>RX 450</td>\n",
              "      <td>Jeep</td>\n",
              "      <td>3.5</td>\n",
              "      <td>186005</td>\n",
              "      <td>6.0</td>\n",
              "      <td>12</td>\n",
              "      <td>11</td>\n",
              "      <td>805</td>\n",
              "      <td>...</td>\n",
              "      <td>False</td>\n",
              "      <td>True</td>\n",
              "      <td>False</td>\n",
              "      <td>True</td>\n",
              "      <td>False</td>\n",
              "      <td>False</td>\n",
              "      <td>True</td>\n",
              "      <td>False</td>\n",
              "      <td>True</td>\n",
              "      <td>False</td>\n",
              "    </tr>\n",
              "    <tr>\n",
              "      <th>1</th>\n",
              "      <td>16621</td>\n",
              "      <td>CHEVROLET</td>\n",
              "      <td>Equinox</td>\n",
              "      <td>Jeep</td>\n",
              "      <td>3.0</td>\n",
              "      <td>192000</td>\n",
              "      <td>6.0</td>\n",
              "      <td>8</td>\n",
              "      <td>2</td>\n",
              "      <td>415</td>\n",
              "      <td>...</td>\n",
              "      <td>False</td>\n",
              "      <td>False</td>\n",
              "      <td>True</td>\n",
              "      <td>False</td>\n",
              "      <td>True</td>\n",
              "      <td>False</td>\n",
              "      <td>True</td>\n",
              "      <td>False</td>\n",
              "      <td>True</td>\n",
              "      <td>False</td>\n",
              "    </tr>\n",
              "    <tr>\n",
              "      <th>4</th>\n",
              "      <td>11726</td>\n",
              "      <td>HONDA</td>\n",
              "      <td>FIT</td>\n",
              "      <td>Hatchback</td>\n",
              "      <td>1.3</td>\n",
              "      <td>91901</td>\n",
              "      <td>4.0</td>\n",
              "      <td>4</td>\n",
              "      <td>6</td>\n",
              "      <td>432</td>\n",
              "      <td>...</td>\n",
              "      <td>False</td>\n",
              "      <td>False</td>\n",
              "      <td>True</td>\n",
              "      <td>True</td>\n",
              "      <td>False</td>\n",
              "      <td>False</td>\n",
              "      <td>True</td>\n",
              "      <td>False</td>\n",
              "      <td>True</td>\n",
              "      <td>False</td>\n",
              "    </tr>\n",
              "    <tr>\n",
              "      <th>5</th>\n",
              "      <td>39493</td>\n",
              "      <td>HYUNDAI</td>\n",
              "      <td>Santa FE</td>\n",
              "      <td>Jeep</td>\n",
              "      <td>2.0</td>\n",
              "      <td>160931</td>\n",
              "      <td>4.0</td>\n",
              "      <td>4</td>\n",
              "      <td>7</td>\n",
              "      <td>836</td>\n",
              "      <td>...</td>\n",
              "      <td>False</td>\n",
              "      <td>False</td>\n",
              "      <td>False</td>\n",
              "      <td>True</td>\n",
              "      <td>False</td>\n",
              "      <td>False</td>\n",
              "      <td>True</td>\n",
              "      <td>False</td>\n",
              "      <td>True</td>\n",
              "      <td>False</td>\n",
              "    </tr>\n",
              "    <tr>\n",
              "      <th>9</th>\n",
              "      <td>26657</td>\n",
              "      <td>LEXUS</td>\n",
              "      <td>RX 350</td>\n",
              "      <td>Jeep</td>\n",
              "      <td>3.5</td>\n",
              "      <td>128500</td>\n",
              "      <td>6.0</td>\n",
              "      <td>12</td>\n",
              "      <td>11</td>\n",
              "      <td>799</td>\n",
              "      <td>...</td>\n",
              "      <td>False</td>\n",
              "      <td>False</td>\n",
              "      <td>True</td>\n",
              "      <td>True</td>\n",
              "      <td>False</td>\n",
              "      <td>False</td>\n",
              "      <td>True</td>\n",
              "      <td>False</td>\n",
              "      <td>True</td>\n",
              "      <td>False</td>\n",
              "    </tr>\n",
              "    <tr>\n",
              "      <th>...</th>\n",
              "      <td>...</td>\n",
              "      <td>...</td>\n",
              "      <td>...</td>\n",
              "      <td>...</td>\n",
              "      <td>...</td>\n",
              "      <td>...</td>\n",
              "      <td>...</td>\n",
              "      <td>...</td>\n",
              "      <td>...</td>\n",
              "      <td>...</td>\n",
              "      <td>...</td>\n",
              "      <td>...</td>\n",
              "      <td>...</td>\n",
              "      <td>...</td>\n",
              "      <td>...</td>\n",
              "      <td>...</td>\n",
              "      <td>...</td>\n",
              "      <td>...</td>\n",
              "      <td>...</td>\n",
              "      <td>...</td>\n",
              "      <td>...</td>\n",
              "    </tr>\n",
              "    <tr>\n",
              "      <th>19221</th>\n",
              "      <td>15681</td>\n",
              "      <td>VOLKSWAGEN</td>\n",
              "      <td>Jetta</td>\n",
              "      <td>Sedan</td>\n",
              "      <td>2.5</td>\n",
              "      <td>81200</td>\n",
              "      <td>5.0</td>\n",
              "      <td>12</td>\n",
              "      <td>24</td>\n",
              "      <td>567</td>\n",
              "      <td>...</td>\n",
              "      <td>False</td>\n",
              "      <td>False</td>\n",
              "      <td>True</td>\n",
              "      <td>False</td>\n",
              "      <td>True</td>\n",
              "      <td>False</td>\n",
              "      <td>True</td>\n",
              "      <td>False</td>\n",
              "      <td>True</td>\n",
              "      <td>False</td>\n",
              "    </tr>\n",
              "    <tr>\n",
              "      <th>19224</th>\n",
              "      <td>19130</td>\n",
              "      <td>KIA</td>\n",
              "      <td>Optima ex</td>\n",
              "      <td>Sedan</td>\n",
              "      <td>2.4</td>\n",
              "      <td>35800</td>\n",
              "      <td>4.0</td>\n",
              "      <td>12</td>\n",
              "      <td>10</td>\n",
              "      <td>690</td>\n",
              "      <td>...</td>\n",
              "      <td>False</td>\n",
              "      <td>False</td>\n",
              "      <td>True</td>\n",
              "      <td>True</td>\n",
              "      <td>False</td>\n",
              "      <td>False</td>\n",
              "      <td>True</td>\n",
              "      <td>False</td>\n",
              "      <td>True</td>\n",
              "      <td>False</td>\n",
              "    </tr>\n",
              "    <tr>\n",
              "      <th>19227</th>\n",
              "      <td>29793</td>\n",
              "      <td>MERCEDES-BENZ</td>\n",
              "      <td>E 350</td>\n",
              "      <td>Sedan</td>\n",
              "      <td>3.5</td>\n",
              "      <td>219030</td>\n",
              "      <td>6.0</td>\n",
              "      <td>12</td>\n",
              "      <td>13</td>\n",
              "      <td>369</td>\n",
              "      <td>...</td>\n",
              "      <td>False</td>\n",
              "      <td>False</td>\n",
              "      <td>False</td>\n",
              "      <td>True</td>\n",
              "      <td>False</td>\n",
              "      <td>False</td>\n",
              "      <td>True</td>\n",
              "      <td>False</td>\n",
              "      <td>True</td>\n",
              "      <td>False</td>\n",
              "    </tr>\n",
              "    <tr>\n",
              "      <th>19233</th>\n",
              "      <td>15681</td>\n",
              "      <td>HYUNDAI</td>\n",
              "      <td>Sonata</td>\n",
              "      <td>Sedan</td>\n",
              "      <td>2.4</td>\n",
              "      <td>161600</td>\n",
              "      <td>4.0</td>\n",
              "      <td>8</td>\n",
              "      <td>7</td>\n",
              "      <td>852</td>\n",
              "      <td>...</td>\n",
              "      <td>False</td>\n",
              "      <td>False</td>\n",
              "      <td>True</td>\n",
              "      <td>False</td>\n",
              "      <td>True</td>\n",
              "      <td>False</td>\n",
              "      <td>True</td>\n",
              "      <td>False</td>\n",
              "      <td>True</td>\n",
              "      <td>False</td>\n",
              "    </tr>\n",
              "    <tr>\n",
              "      <th>19234</th>\n",
              "      <td>26108</td>\n",
              "      <td>HYUNDAI</td>\n",
              "      <td>Tucson</td>\n",
              "      <td>Jeep</td>\n",
              "      <td>2.0</td>\n",
              "      <td>116365</td>\n",
              "      <td>4.0</td>\n",
              "      <td>4</td>\n",
              "      <td>7</td>\n",
              "      <td>926</td>\n",
              "      <td>...</td>\n",
              "      <td>False</td>\n",
              "      <td>False</td>\n",
              "      <td>False</td>\n",
              "      <td>True</td>\n",
              "      <td>False</td>\n",
              "      <td>False</td>\n",
              "      <td>True</td>\n",
              "      <td>False</td>\n",
              "      <td>True</td>\n",
              "      <td>False</td>\n",
              "    </tr>\n",
              "  </tbody>\n",
              "</table>\n",
              "<p>9479 rows × 26 columns</p>\n",
              "</div>"
            ],
            "text/plain": [
              "       Price   Manufacturer      Model   Category  Engine volume  Mileage  \\\n",
              "0      13328          LEXUS     RX 450       Jeep            3.5   186005   \n",
              "1      16621      CHEVROLET    Equinox       Jeep            3.0   192000   \n",
              "4      11726          HONDA        FIT  Hatchback            1.3    91901   \n",
              "5      39493        HYUNDAI   Santa FE       Jeep            2.0   160931   \n",
              "9      26657          LEXUS     RX 350       Jeep            3.5   128500   \n",
              "...      ...            ...        ...        ...            ...      ...   \n",
              "19221  15681     VOLKSWAGEN      Jetta      Sedan            2.5    81200   \n",
              "19224  19130            KIA  Optima ex      Sedan            2.4    35800   \n",
              "19227  29793  MERCEDES-BENZ      E 350      Sedan            3.5   219030   \n",
              "19233  15681        HYUNDAI     Sonata      Sedan            2.4   161600   \n",
              "19234  26108        HYUNDAI     Tucson       Jeep            2.0   116365   \n",
              "\n",
              "       Cylinders  Airbags  Manufacturer_encoded  Model_encoded  ...  \\\n",
              "0            6.0       12                    11            805  ...   \n",
              "1            6.0        8                     2            415  ...   \n",
              "4            4.0        4                     6            432  ...   \n",
              "5            4.0        4                     7            836  ...   \n",
              "9            6.0       12                    11            799  ...   \n",
              "...          ...      ...                   ...            ...  ...   \n",
              "19221        5.0       12                    24            567  ...   \n",
              "19224        4.0       12                    10            690  ...   \n",
              "19227        6.0       12                    13            369  ...   \n",
              "19233        4.0        8                     7            852  ...   \n",
              "19234        4.0        4                     7            926  ...   \n",
              "\n",
              "       Fuel type_LPG  Fuel type_Other  Fuel type_Petrol  Gear box type_1  \\\n",
              "0              False             True             False             True   \n",
              "1              False            False              True            False   \n",
              "4              False            False              True             True   \n",
              "5              False            False             False             True   \n",
              "9              False            False              True             True   \n",
              "...              ...              ...               ...              ...   \n",
              "19221          False            False              True            False   \n",
              "19224          False            False              True             True   \n",
              "19227          False            False             False             True   \n",
              "19233          False            False              True            False   \n",
              "19234          False            False             False             True   \n",
              "\n",
              "       Gear box type_2  Doors_2-3  Doors_4-5  Doors_>5  Wheel_Left wheel  \\\n",
              "0                False      False       True     False              True   \n",
              "1                 True      False       True     False              True   \n",
              "4                False      False       True     False              True   \n",
              "5                False      False       True     False              True   \n",
              "9                False      False       True     False              True   \n",
              "...                ...        ...        ...       ...               ...   \n",
              "19221             True      False       True     False              True   \n",
              "19224            False      False       True     False              True   \n",
              "19227            False      False       True     False              True   \n",
              "19233             True      False       True     False              True   \n",
              "19234            False      False       True     False              True   \n",
              "\n",
              "       Wheel_Right-hand drive  \n",
              "0                       False  \n",
              "1                       False  \n",
              "4                       False  \n",
              "5                       False  \n",
              "9                       False  \n",
              "...                       ...  \n",
              "19221                   False  \n",
              "19224                   False  \n",
              "19227                   False  \n",
              "19233                   False  \n",
              "19234                   False  \n",
              "\n",
              "[9479 rows x 26 columns]"
            ]
          },
          "execution_count": 35,
          "metadata": {},
          "output_type": "execute_result"
        }
      ],
      "source": [
        "# Perform one-hot encoding for specific categorical columns in the DataFrame 'df'.\n",
        "# This is done to convert categorical variables into numerical format for machine learning models.\n",
        "\n",
        "encoded_dataset = pd.get_dummies(data = df, columns = ['Category_encoded', 'Fuel type', 'Gear box type', 'Doors', 'Wheel'])\n",
        "#encoded_dataset.drop([\"Manufacturer\", \"Model\"],axis=1, inplace=True)\n",
        "encoded_dataset"
      ]
    },
    {
      "cell_type": "code",
      "execution_count": 36,
      "metadata": {
        "colab": {
          "base_uri": "https://localhost:8080/"
        },
        "id": "rABqKXZ_3RZ4",
        "outputId": "f3b259f8-fc19-4f76-c653-8cde4d4df9dd"
      },
      "outputs": [
        {
          "data": {
            "text/plain": [
              "(8677, 26)"
            ]
          },
          "execution_count": 36,
          "metadata": {},
          "output_type": "execute_result"
        }
      ],
      "source": [
        "encoded_dataset.drop_duplicates(inplace=True)\n",
        "encoded_dataset.shape"
      ]
    },
    {
      "cell_type": "code",
      "execution_count": 37,
      "metadata": {},
      "outputs": [
        {
          "name": "stdout",
          "output_type": "stream",
          "text": [
            "max :  320899\n",
            "min :  0\n"
          ]
        }
      ],
      "source": [
        "print('max : ',encoded_dataset['Mileage'].max())\n",
        "print('min : ',encoded_dataset['Mileage'].min())"
      ]
    },
    {
      "cell_type": "code",
      "execution_count": 38,
      "metadata": {},
      "outputs": [
        {
          "data": {
            "text/plain": [
              "Airbags\n",
              "4     3260\n",
              "12    1535\n",
              "8     1193\n",
              "6      813\n",
              "10     657\n",
              "0      584\n",
              "2      346\n",
              "16      64\n",
              "7       58\n",
              "9       47\n",
              "5       40\n",
              "1       28\n",
              "11      20\n",
              "14      17\n",
              "3       10\n",
              "15       4\n",
              "13       1\n",
              "Name: count, dtype: int64"
            ]
          },
          "execution_count": 38,
          "metadata": {},
          "output_type": "execute_result"
        }
      ],
      "source": [
        "encoded_dataset['Airbags'].value_counts()"
      ]
    },
    {
      "cell_type": "markdown",
      "metadata": {
        "id": "XNMUV3VA7wpS"
      },
      "source": [
        "# **Normalization and Standardization**"
      ]
    },
    {
      "cell_type": "code",
      "execution_count": 39,
      "metadata": {
        "id": "2Cp5_LDd724Y"
      },
      "outputs": [],
      "source": [
        "# Normalize numerical columns using Min-Max scaling.\n",
        "# Min-Max scaling transforms numerical features to a common scale, typically between 0 and 1.\n",
        "# This helps ensure that all numerical features have equal weight and avoids issues with different scales in machine learning models.\n",
        "\n",
        "\n",
        "from sklearn.preprocessing import StandardScaler\n",
        "\n",
        "numerical_columns = ['Mileage']\n",
        "\n",
        "scaler = StandardScaler()\n",
        "encoded_dataset[numerical_columns] = scaler.fit_transform(encoded_dataset[numerical_columns])\n",
        "\n",
        "# After this operation, the values in  'Mileage' columns will be scaled between 0 and 1."
      ]
    },
    {
      "cell_type": "code",
      "execution_count": 40,
      "metadata": {
        "colab": {
          "base_uri": "https://localhost:8080/"
        },
        "id": "7CNWN0z_FvDR",
        "outputId": "8c936c3b-2774-48de-80f5-b132aeaae086"
      },
      "outputs": [
        {
          "data": {
            "text/plain": [
              "(8677, 26)"
            ]
          },
          "execution_count": 40,
          "metadata": {},
          "output_type": "execute_result"
        }
      ],
      "source": [
        "encoded_dataset.shape"
      ]
    },
    {
      "cell_type": "code",
      "execution_count": 41,
      "metadata": {
        "colab": {
          "base_uri": "https://localhost:8080/"
        },
        "id": "wsZ01urZ8Byq",
        "outputId": "4d88d608-598a-4be6-e396-9e99ea4afdb5"
      },
      "outputs": [
        {
          "name": "stdout",
          "output_type": "stream",
          "text": [
            "<class 'pandas.core.frame.DataFrame'>\n",
            "Index: 8677 entries, 0 to 19234\n",
            "Data columns (total 26 columns):\n",
            " #   Column                  Non-Null Count  Dtype  \n",
            "---  ------                  --------------  -----  \n",
            " 0   Price                   8677 non-null   int64  \n",
            " 1   Manufacturer            8677 non-null   object \n",
            " 2   Model                   8677 non-null   object \n",
            " 3   Category                8677 non-null   object \n",
            " 4   Engine volume           8677 non-null   float64\n",
            " 5   Mileage                 8677 non-null   float64\n",
            " 6   Cylinders               8677 non-null   float64\n",
            " 7   Airbags                 8677 non-null   int64  \n",
            " 8   Manufacturer_encoded    8677 non-null   int32  \n",
            " 9   Model_encoded           8677 non-null   int32  \n",
            " 10  Has Turbo               8677 non-null   int32  \n",
            " 11  Age                     8677 non-null   int64  \n",
            " 12  Category_encoded_1      8677 non-null   bool   \n",
            " 13  Category_encoded_2      8677 non-null   bool   \n",
            " 14  Fuel type_CNG           8677 non-null   bool   \n",
            " 15  Fuel type_Diesel        8677 non-null   bool   \n",
            " 16  Fuel type_LPG           8677 non-null   bool   \n",
            " 17  Fuel type_Other         8677 non-null   bool   \n",
            " 18  Fuel type_Petrol        8677 non-null   bool   \n",
            " 19  Gear box type_1         8677 non-null   bool   \n",
            " 20  Gear box type_2         8677 non-null   bool   \n",
            " 21  Doors_2-3               8677 non-null   bool   \n",
            " 22  Doors_4-5               8677 non-null   bool   \n",
            " 23  Doors_>5                8677 non-null   bool   \n",
            " 24  Wheel_Left wheel        8677 non-null   bool   \n",
            " 25  Wheel_Right-hand drive  8677 non-null   bool   \n",
            "dtypes: bool(14), float64(3), int32(3), int64(3), object(3)\n",
            "memory usage: 898.2+ KB\n"
          ]
        }
      ],
      "source": [
        "encoded_dataset.info()"
      ]
    },
    {
      "cell_type": "markdown",
      "metadata": {
        "id": "wJGjXTFDbkiz"
      },
      "source": [
        "# **Dimension Reductionality**"
      ]
    },
    {
      "cell_type": "code",
      "execution_count": 42,
      "metadata": {
        "id": "0pIfQirdFvDS"
      },
      "outputs": [],
      "source": [
        "# Prepare the dataset for dimensionality reduction.\n",
        "# In this step, we create a new dataset 'dimension_reduce_dataset' by removing the 'Price' column.\n",
        "# This is typically done when we want to perform dimensionality reduction techniques or when separating predictors from the target variable.\n",
        "\n",
        "\n",
        "dimension_reduce_dataset = encoded_dataset\n",
        "dimension_reduce_dataset = dimension_reduce_dataset.drop(columns=['Price','Manufacturer','Model','Category'])\n"
      ]
    },
    {
      "cell_type": "code",
      "execution_count": 43,
      "metadata": {
        "colab": {
          "base_uri": "https://localhost:8080/"
        },
        "id": "irnoqEJESouL",
        "outputId": "c5372c62-3097-467b-c02b-845daf45d587"
      },
      "outputs": [
        {
          "data": {
            "text/plain": [
              "(8677, 22)"
            ]
          },
          "execution_count": 43,
          "metadata": {},
          "output_type": "execute_result"
        }
      ],
      "source": [
        "dimension_reduce_dataset.shape"
      ]
    },
    {
      "cell_type": "code",
      "execution_count": 44,
      "metadata": {
        "id": "JyDgzgs8FvDS"
      },
      "outputs": [],
      "source": [
        "#Indirect Approach\n",
        "import numpy as np\n",
        "import pandas as pd\n",
        "from scipy import linalg"
      ]
    },
    {
      "cell_type": "code",
      "execution_count": 45,
      "metadata": {
        "colab": {
          "base_uri": "https://localhost:8080/"
        },
        "id": "-fcfhioaFvDX",
        "outputId": "a43d430b-3401-4f49-b41d-922c7dd639e7"
      },
      "outputs": [
        {
          "name": "stdout",
          "output_type": "stream",
          "text": [
            "['Engine volume', 'Mileage', 'Cylinders', 'Airbags', 'Manufacturer_encoded', 'Model_encoded', 'Has Turbo', 'Age', 'Category_encoded_1', 'Category_encoded_2', 'Fuel type_CNG', 'Fuel type_Diesel', 'Fuel type_LPG', 'Fuel type_Other', 'Fuel type_Petrol', 'Gear box type_1', 'Gear box type_2', 'Doors_2-3', 'Doors_4-5', 'Doors_>5', 'Wheel_Left wheel', 'Wheel_Right-hand drive']\n"
          ]
        }
      ],
      "source": [
        "column_names = dimension_reduce_dataset.columns.tolist()\n",
        "print(column_names)"
      ]
    },
    {
      "cell_type": "code",
      "execution_count": 46,
      "metadata": {
        "colab": {
          "base_uri": "https://localhost:8080/"
        },
        "id": "g1BJkGkbFvDY",
        "outputId": "478944be-58b6-44e5-dd3c-cd83a3bb6678"
      },
      "outputs": [
        {
          "name": "stdout",
          "output_type": "stream",
          "text": [
            "numeric_columns :         Engine volume   Mileage  Cylinders  Airbags  Manufacturer_encoded  \\\n",
            "0                3.5  0.947374        6.0       12                    11   \n",
            "1                3.0  1.034512        6.0        8                     2   \n",
            "4                1.3 -0.420446        4.0        4                     6   \n",
            "5                2.0  0.582918        4.0        4                     7   \n",
            "9                3.5  0.111527        6.0       12                    11   \n",
            "...              ...       ...        ...      ...                   ...   \n",
            "19219            1.8  0.287505        4.0       12                    23   \n",
            "19221            2.5 -0.575987        5.0       12                    24   \n",
            "19224            2.4 -1.235885        4.0       12                    10   \n",
            "19233            2.4  0.592642        4.0        8                     7   \n",
            "19234            2.0 -0.064857        4.0        4                     7   \n",
            "\n",
            "       Model_encoded  Has Turbo  Age  \n",
            "0                805          0   13  \n",
            "1                415          0   12  \n",
            "4                432          0    9  \n",
            "5                836          0    7  \n",
            "9                799          0   16  \n",
            "...              ...        ...  ...  \n",
            "19219            733          0   10  \n",
            "19221            567          0   10  \n",
            "19224            690          0    9  \n",
            "19233            852          0   12  \n",
            "19234            926          0   13  \n",
            "\n",
            "[8677 rows x 8 columns]\n",
            "M :  Engine volume           2.075372e+00\n",
            "Mileage                 2.907026e-17\n",
            "Cylinders               4.284315e+00\n",
            "Airbags                 6.429181e+00\n",
            "Manufacturer_encoded    1.205497e+01\n",
            "Model_encoded           5.495729e+02\n",
            "Has Turbo               1.447505e-01\n",
            "Age                     1.113703e+01\n",
            "dtype: float64\n",
            "C :         Engine volume   Mileage  Cylinders   Airbags  Manufacturer_encoded  \\\n",
            "0           1.424628  0.947374   1.715685  5.570819             -1.054973   \n",
            "1           0.924628  1.034512   1.715685  1.570819            -10.054973   \n",
            "4          -0.775372 -0.420446  -0.284315 -2.429181             -6.054973   \n",
            "5          -0.075372  0.582918  -0.284315 -2.429181             -5.054973   \n",
            "9           1.424628  0.111527   1.715685  5.570819             -1.054973   \n",
            "...              ...       ...        ...       ...                   ...   \n",
            "19219      -0.275372  0.287505  -0.284315  5.570819             10.945027   \n",
            "19221       0.424628 -0.575987   0.715685  5.570819             11.945027   \n",
            "19224       0.324628 -1.235885  -0.284315  5.570819             -2.054973   \n",
            "19233       0.324628  0.592642  -0.284315  1.570819             -5.054973   \n",
            "19234      -0.075372 -0.064857  -0.284315 -2.429181             -5.054973   \n",
            "\n",
            "       Model_encoded  Has Turbo       Age  \n",
            "0         255.427106   -0.14475  1.862971  \n",
            "1        -134.572894   -0.14475  0.862971  \n",
            "4        -117.572894   -0.14475 -2.137029  \n",
            "5         286.427106   -0.14475 -4.137029  \n",
            "9         249.427106   -0.14475  4.862971  \n",
            "...              ...        ...       ...  \n",
            "19219     183.427106   -0.14475 -1.137029  \n",
            "19221      17.427106   -0.14475 -1.137029  \n",
            "19224     140.427106   -0.14475 -2.137029  \n",
            "19233     302.427106   -0.14475  0.862971  \n",
            "19234     376.427106   -0.14475  1.862971  \n",
            "\n",
            "[8677 rows x 8 columns]\n",
            "V :  [[ 2.74864791e-01  8.87656579e-02  2.44439613e-01  3.41645446e-01\n",
            "  -2.25109761e-01  6.09146236e+00  1.97477866e-03  5.98107778e-01]\n",
            " [ 8.87656579e-02  1.00011526e+00  8.72016621e-02 -2.78937629e-01\n",
            "   4.14294317e-02  3.54031843e+01  1.90797514e-02  1.60102367e+00]\n",
            " [ 2.44439613e-01  8.72016621e-02  7.00045557e-01  5.92002245e-01\n",
            "  -4.14317449e-01 -1.04862067e+01  2.22338107e-02  8.22262522e-01]\n",
            " [ 3.41645446e-01 -2.78937629e-01  5.92002245e-01  1.36258335e+01\n",
            "   4.14848788e+00 -1.00274718e+02  1.68043935e-01 -1.62013551e+00]\n",
            " [-2.25109761e-01  4.14294317e-02 -4.14317449e-01  4.14848788e+00\n",
            "   6.22568900e+01 -4.32616725e+01 -2.58649837e-01  1.45408451e+00]\n",
            " [ 6.09146236e+00  3.54031843e+01 -1.04862067e+01 -1.00274718e+02\n",
            "  -4.32616725e+01  7.31408724e+04  3.29581064e-01  7.94156096e+01]\n",
            " [ 1.97477866e-03  1.90797514e-02  2.22338107e-02  1.68043935e-01\n",
            "  -2.58649837e-01  3.29581064e-01  1.23812054e-01  2.03998579e-01]\n",
            " [ 5.98107778e-01  1.60102367e+00  8.22262522e-01 -1.62013551e+00\n",
            "   1.45408451e+00  7.94156096e+01  2.03998579e-01  1.64234754e+01]]\n"
          ]
        }
      ],
      "source": [
        "\n",
        "# Assuming df is your DataFrame\n",
        "numeric_columns = dimension_reduce_dataset.select_dtypes(include=[np.number])\n",
        "print('numeric_columns : ',numeric_columns)\n",
        "column_names = numeric_columns.columns.tolist()\n",
        "\n",
        "# Calculate the mean of each numeric column\n",
        "M = numeric_columns.mean()\n",
        "\n",
        "# Center numeric columns by subtracting the mean\n",
        "C = numeric_columns - M\n",
        "\n",
        "# Calculate the covariance matrix\n",
        "V = np.cov(C.T)\n",
        "\n",
        "print('M : ',M)\n",
        "print('C : ',C)\n",
        "print('V : ',V)"
      ]
    },
    {
      "cell_type": "code",
      "execution_count": 47,
      "metadata": {
        "colab": {
          "base_uri": "https://localhost:8080/"
        },
        "id": "882rp6aUFvDY",
        "outputId": "131d6c6c-7731-4a44-cc96-8f991ba51459"
      },
      "outputs": [
        {
          "name": "stdout",
          "output_type": "stream",
          "text": [
            "[7.31411409e+04+0.j 6.26160471e+01+0.j 1.71638518e+01+0.j\n",
            " 1.25677368e+01+0.j 8.28990521e-01+0.j 6.85517844e-01+0.j\n",
            " 1.60925594e-01+0.j 1.13448495e-01+0.j]\n",
            "[[-8.32882326e-05  2.81968373e-03  2.54963141e-02  4.71051037e-02\n",
            "  -8.68481830e-02 -3.70822274e-01 -8.90296068e-01  2.43811882e-01]\n",
            " [-4.84073597e-04 -1.43746858e-03  9.46980591e-02  3.15094552e-02\n",
            "  -9.82016938e-01  1.56671360e-01  3.24815902e-02 -8.88233708e-03]\n",
            " [ 1.43365259e-04  5.61445504e-03  3.44280152e-02  7.48481719e-02\n",
            "  -1.26551555e-01 -9.11312860e-01  3.72386654e-01 -8.94576710e-02]\n",
            " [ 1.37128877e-03 -8.19017441e-02 -3.72953661e-01  9.21755321e-01\n",
            "   4.37565779e-03  6.45457719e-02  5.40674736e-03 -1.86650102e-02]\n",
            " [ 5.92040281e-04 -9.96174432e-01  3.48952154e-03 -8.60372269e-02\n",
            "  -3.14294949e-03 -1.32771039e-02 -1.41483819e-04  5.94885236e-03]\n",
            " [-9.99998164e-01 -6.68765314e-04 -1.55373951e-03  8.07354663e-04\n",
            "   3.49390919e-04 -1.53930667e-04  1.09859382e-04 -3.58794856e-05]\n",
            " [-4.50815334e-06  3.80455782e-03  7.43052236e-03  2.04416586e-02\n",
            "   3.30424004e-03  1.29808274e-02  2.59924888e-01  9.65283421e-01]\n",
            " [-1.08605592e-03 -2.95320764e-02  9.21972175e-01  3.65694168e-01\n",
            "   1.09748650e-01  5.42478840e-02  7.47153157e-03 -1.78420488e-02]]\n"
          ]
        }
      ],
      "source": [
        "#calculate eigen vectors and values\n",
        "eigen_values, eigen_vectors = linalg.eig(V)\n",
        "print(eigen_values)\n",
        "print(eigen_vectors)"
      ]
    },
    {
      "cell_type": "code",
      "execution_count": 48,
      "metadata": {
        "colab": {
          "base_uri": "https://localhost:8080/"
        },
        "id": "8VFiYZAYFvDY",
        "outputId": "6f617b8a-58f0-4a6f-d5d5-d8667dc7604b"
      },
      "outputs": [
        {
          "name": "stdout",
          "output_type": "stream",
          "text": [
            "(0.9987146014681011+0j)\n",
            "(0.0008549984285203372+0j)\n",
            "(0.00023436590094759815+0j)\n",
            "(0.00017160768946961307+0j)\n",
            "(1.1319551858334015e-05+0j)\n",
            "(9.360486749571432e-06+0j)\n",
            "(2.1973780892582e-06+0j)\n",
            "(1.5490962642993539e-06+0j)\n"
          ]
        }
      ],
      "source": [
        "#check explained variance ratio of each component\n",
        "for i in range(8):\n",
        "  print(eigen_values[i] / np.sum(eigen_values))"
      ]
    },
    {
      "cell_type": "code",
      "execution_count": 49,
      "metadata": {
        "colab": {
          "base_uri": "https://localhost:8080/"
        },
        "id": "J6PlDOIoFvDZ",
        "outputId": "94ff65c2-7cba-43e0-f84c-048abe1ad41c"
      },
      "outputs": [
        {
          "name": "stdout",
          "output_type": "stream",
          "text": [
            "[0 1 2 3 4 5 6 7]\n",
            "[7.31411409e+04+0.j 6.26160471e+01+0.j 1.71638518e+01+0.j\n",
            " 1.25677368e+01+0.j 8.28990521e-01+0.j 6.85517844e-01+0.j\n",
            " 1.60925594e-01+0.j 1.13448495e-01+0.j]\n",
            "[[-8.32882326e-05  2.81968373e-03  2.54963141e-02  4.71051037e-02\n",
            "  -8.68481830e-02 -3.70822274e-01 -8.90296068e-01  2.43811882e-01]\n",
            " [-4.84073597e-04 -1.43746858e-03  9.46980591e-02  3.15094552e-02\n",
            "  -9.82016938e-01  1.56671360e-01  3.24815902e-02 -8.88233708e-03]\n",
            " [ 1.43365259e-04  5.61445504e-03  3.44280152e-02  7.48481719e-02\n",
            "  -1.26551555e-01 -9.11312860e-01  3.72386654e-01 -8.94576710e-02]\n",
            " [ 1.37128877e-03 -8.19017441e-02 -3.72953661e-01  9.21755321e-01\n",
            "   4.37565779e-03  6.45457719e-02  5.40674736e-03 -1.86650102e-02]\n",
            " [ 5.92040281e-04 -9.96174432e-01  3.48952154e-03 -8.60372269e-02\n",
            "  -3.14294949e-03 -1.32771039e-02 -1.41483819e-04  5.94885236e-03]\n",
            " [-9.99998164e-01 -6.68765314e-04 -1.55373951e-03  8.07354663e-04\n",
            "   3.49390919e-04 -1.53930667e-04  1.09859382e-04 -3.58794856e-05]\n",
            " [-4.50815334e-06  3.80455782e-03  7.43052236e-03  2.04416586e-02\n",
            "   3.30424004e-03  1.29808274e-02  2.59924888e-01  9.65283421e-01]\n",
            " [-1.08605592e-03 -2.95320764e-02  9.21972175e-01  3.65694168e-01\n",
            "   1.09748650e-01  5.42478840e-02  7.47153157e-03 -1.78420488e-02]]\n"
          ]
        }
      ],
      "source": [
        "#sort the eigenvalues in descending order\n",
        "sorted_index = np.argsort(eigen_values)[::-1]\n",
        "print(sorted_index)\n",
        "\n",
        "sorted_eigenvalue = eigen_values[sorted_index]\n",
        "print(sorted_eigenvalue)\n",
        "\n",
        "#similarly sort the eigenvectors\n",
        "sorted_eigenvectors = eigen_vectors[:,sorted_index]\n",
        "print(sorted_eigenvectors)"
      ]
    },
    {
      "cell_type": "code",
      "execution_count": 50,
      "metadata": {
        "id": "BXoNdRXhFvDZ"
      },
      "outputs": [],
      "source": [
        " #select the first n eigenvectors, n is desired dimension\n",
        "# of our final reduced data.\n",
        "\n",
        "n_components = 4 #you can select any number of components.\n",
        "eigenvector_subset = sorted_eigenvectors[:, 0:n_components]"
      ]
    },
    {
      "cell_type": "code",
      "execution_count": 51,
      "metadata": {
        "colab": {
          "base_uri": "https://localhost:8080/"
        },
        "id": "9JsdaFvQFvDZ",
        "outputId": "d7ee6316-b957-402c-8b2b-fb9e721a96ad"
      },
      "outputs": [
        {
          "data": {
            "text/plain": [
              "(8, 4)"
            ]
          },
          "execution_count": 51,
          "metadata": {},
          "output_type": "execute_result"
        }
      ],
      "source": [
        "eigenvector_subset.shape"
      ]
    },
    {
      "cell_type": "code",
      "execution_count": 52,
      "metadata": {
        "colab": {
          "base_uri": "https://localhost:8080/"
        },
        "id": "W_hMSVWoFvDa",
        "outputId": "97cb885d-bac1-40f6-8f14-9457a16b9ca8"
      },
      "outputs": [
        {
          "data": {
            "text/plain": [
              "(8677, 8)"
            ]
          },
          "execution_count": 52,
          "metadata": {},
          "output_type": "execute_result"
        }
      ],
      "source": [
        "C.shape"
      ]
    },
    {
      "cell_type": "code",
      "execution_count": 53,
      "metadata": {
        "colab": {
          "base_uri": "https://localhost:8080/"
        },
        "id": "TKHIuhL0FvDb",
        "outputId": "40cfa8f3-7df8-4c0b-b1fc-4a1ae985398e"
      },
      "outputs": [
        {
          "data": {
            "text/plain": [
              "array([[-2.55421976e+02,  3.80576135e-01, -5.76569261e-01,\n",
              "         6.33561275e+00],\n",
              "       [ 1.34567579e+02,  9.96256845e+00,  5.63329611e-01,\n",
              "         2.72155715e+00],\n",
              "       [ 1.17568311e+02,  6.36877400e+00, -9.73209227e-01,\n",
              "        -2.66859047e+00],\n",
              "       ...,\n",
              "       [-1.40417574e+02,  1.56059469e+00, -4.39291974e+00,\n",
              "         4.59572228e+00],\n",
              "       [-3.02428681e+02,  4.67716030e+00, -2.24204981e-01,\n",
              "         2.45230252e+00],\n",
              "       [-3.76434765e+02,  4.92556383e+00,  2.00214267e+00,\n",
              "        -8.48839838e-01]])"
            ]
          },
          "execution_count": 53,
          "metadata": {},
          "output_type": "execute_result"
        }
      ],
      "source": [
        "X_reduced = np.dot(C,  eigenvector_subset)\n",
        "X_reduced"
      ]
    },
    {
      "cell_type": "code",
      "execution_count": 54,
      "metadata": {
        "colab": {
          "base_uri": "https://localhost:8080/"
        },
        "id": "BztlSFevFvDc",
        "outputId": "5e7b7876-a605-4dea-fbef-b1411436f455"
      },
      "outputs": [
        {
          "data": {
            "text/plain": [
              "array([[-2.55421976e+02,  3.80576135e-01, -5.76569261e-01,\n",
              "         6.33561275e+00],\n",
              "       [ 1.34567579e+02,  9.96256845e+00,  5.63329611e-01,\n",
              "         2.72155715e+00],\n",
              "       [ 1.17568311e+02,  6.36877400e+00, -9.73209227e-01,\n",
              "        -2.66859047e+00],\n",
              "       ...,\n",
              "       [-1.40417574e+02,  1.56059469e+00, -4.39291974e+00,\n",
              "         4.59572228e+00],\n",
              "       [-3.02428681e+02,  4.67716030e+00, -2.24204981e-01,\n",
              "         2.45230252e+00],\n",
              "       [-3.76434765e+02,  4.92556383e+00,  2.00214267e+00,\n",
              "        -8.48839838e-01]])"
            ]
          },
          "execution_count": 54,
          "metadata": {},
          "output_type": "execute_result"
        }
      ],
      "source": [
        "X_reduced = np.dot(eigenvector_subset.transpose() , C.transpose() ).transpose()\n",
        "X_reduced"
      ]
    },
    {
      "cell_type": "code",
      "execution_count": 55,
      "metadata": {
        "colab": {
          "base_uri": "https://localhost:8080/",
          "height": 424
        },
        "id": "VwCFXvJmFvDd",
        "outputId": "4f932c71-2a08-45fd-a036-462d8948ac2c"
      },
      "outputs": [
        {
          "data": {
            "text/html": [
              "<div>\n",
              "<style scoped>\n",
              "    .dataframe tbody tr th:only-of-type {\n",
              "        vertical-align: middle;\n",
              "    }\n",
              "\n",
              "    .dataframe tbody tr th {\n",
              "        vertical-align: top;\n",
              "    }\n",
              "\n",
              "    .dataframe thead th {\n",
              "        text-align: right;\n",
              "    }\n",
              "</style>\n",
              "<table border=\"1\" class=\"dataframe\">\n",
              "  <thead>\n",
              "    <tr style=\"text-align: right;\">\n",
              "      <th></th>\n",
              "      <th>PC1</th>\n",
              "      <th>PC2</th>\n",
              "      <th>PC3</th>\n",
              "      <th>PC4</th>\n",
              "    </tr>\n",
              "  </thead>\n",
              "  <tbody>\n",
              "    <tr>\n",
              "      <th>0</th>\n",
              "      <td>-255.421976</td>\n",
              "      <td>0.380576</td>\n",
              "      <td>-0.576569</td>\n",
              "      <td>6.335613</td>\n",
              "    </tr>\n",
              "    <tr>\n",
              "      <th>1</th>\n",
              "      <td>134.567579</td>\n",
              "      <td>9.962568</td>\n",
              "      <td>0.563330</td>\n",
              "      <td>2.721557</td>\n",
              "    </tr>\n",
              "    <tr>\n",
              "      <th>2</th>\n",
              "      <td>117.568311</td>\n",
              "      <td>6.368774</td>\n",
              "      <td>-0.973209</td>\n",
              "      <td>-2.668590</td>\n",
              "    </tr>\n",
              "    <tr>\n",
              "      <th>3</th>\n",
              "      <td>-286.428727</td>\n",
              "      <td>5.162014</td>\n",
              "      <td>-3.328511</td>\n",
              "      <td>-3.095256</td>\n",
              "    </tr>\n",
              "    <tr>\n",
              "      <th>4</th>\n",
              "      <td>-249.424841</td>\n",
              "      <td>0.297194</td>\n",
              "      <td>2.119517</td>\n",
              "      <td>7.401514</td>\n",
              "    </tr>\n",
              "    <tr>\n",
              "      <th>...</th>\n",
              "      <td>...</td>\n",
              "      <td>...</td>\n",
              "      <td>...</td>\n",
              "      <td>...</td>\n",
              "    </tr>\n",
              "    <tr>\n",
              "      <th>8672</th>\n",
              "      <td>-183.411572</td>\n",
              "      <td>-11.451844</td>\n",
              "      <td>-3.363430</td>\n",
              "      <td>3.897387</td>\n",
              "    </tr>\n",
              "    <tr>\n",
              "      <th>8673</th>\n",
              "      <td>-17.410781</td>\n",
              "      <td>-12.328173</td>\n",
              "      <td>-3.131516</td>\n",
              "      <td>3.757942</td>\n",
              "    </tr>\n",
              "    <tr>\n",
              "      <th>8674</th>\n",
              "      <td>-140.417574</td>\n",
              "      <td>1.560595</td>\n",
              "      <td>-4.392920</td>\n",
              "      <td>4.595722</td>\n",
              "    </tr>\n",
              "    <tr>\n",
              "      <th>8675</th>\n",
              "      <td>-302.428681</td>\n",
              "      <td>4.677160</td>\n",
              "      <td>-0.224205</td>\n",
              "      <td>2.452303</td>\n",
              "    </tr>\n",
              "    <tr>\n",
              "      <th>8676</th>\n",
              "      <td>-376.434765</td>\n",
              "      <td>4.925564</td>\n",
              "      <td>2.002143</td>\n",
              "      <td>-0.848840</td>\n",
              "    </tr>\n",
              "  </tbody>\n",
              "</table>\n",
              "<p>8677 rows × 4 columns</p>\n",
              "</div>"
            ],
            "text/plain": [
              "             PC1        PC2       PC3       PC4\n",
              "0    -255.421976   0.380576 -0.576569  6.335613\n",
              "1     134.567579   9.962568  0.563330  2.721557\n",
              "2     117.568311   6.368774 -0.973209 -2.668590\n",
              "3    -286.428727   5.162014 -3.328511 -3.095256\n",
              "4    -249.424841   0.297194  2.119517  7.401514\n",
              "...          ...        ...       ...       ...\n",
              "8672 -183.411572 -11.451844 -3.363430  3.897387\n",
              "8673  -17.410781 -12.328173 -3.131516  3.757942\n",
              "8674 -140.417574   1.560595 -4.392920  4.595722\n",
              "8675 -302.428681   4.677160 -0.224205  2.452303\n",
              "8676 -376.434765   4.925564  2.002143 -0.848840\n",
              "\n",
              "[8677 rows x 4 columns]"
            ]
          },
          "execution_count": 55,
          "metadata": {},
          "output_type": "execute_result"
        }
      ],
      "source": [
        "#new dataframe with reduced features\n",
        "df1 = pd.DataFrame(X_reduced,columns=[\"PC1\", \"PC2\",\"PC3\",\"PC4\"])\n",
        "df1"
      ]
    },
    {
      "cell_type": "markdown",
      "metadata": {
        "id": "IYRoap8bW-_j"
      },
      "source": [
        "# **Data Validation**"
      ]
    },
    {
      "cell_type": "code",
      "execution_count": 56,
      "metadata": {
        "colab": {
          "base_uri": "https://localhost:8080/"
        },
        "id": "AOzlzdMAXChB",
        "outputId": "d9eddc9a-cee4-49b0-e8c0-7f65d0d52665"
      },
      "outputs": [
        {
          "name": "stdout",
          "output_type": "stream",
          "text": [
            "Data Profiling:\n",
            "               Price Manufacturer  Model Category  Engine volume  \\\n",
            "count    8677.000000         8677   8677     8677    8677.000000   \n",
            "unique           NaN           25    900       11            NaN   \n",
            "top              NaN      HYUNDAI  Prius    Sedan            NaN   \n",
            "freq             NaN         2155    652     3868            NaN   \n",
            "mean    21282.916100          NaN    NaN      NaN       2.075372   \n",
            "std      9216.106919          NaN    NaN      NaN       0.524275   \n",
            "min     10017.000000          NaN    NaN      NaN       0.800000   \n",
            "25%     14113.000000          NaN    NaN      NaN       1.600000   \n",
            "50%     18817.000000          NaN    NaN      NaN       2.000000   \n",
            "75%     25716.000000          NaN    NaN      NaN       2.400000   \n",
            "max     47120.000000          NaN    NaN      NaN       3.500000   \n",
            "\n",
            "             Mileage    Cylinders      Airbags  Manufacturer_encoded  \\\n",
            "count   8.677000e+03  8677.000000  8677.000000           8677.000000   \n",
            "unique           NaN          NaN          NaN                   NaN   \n",
            "top              NaN          NaN          NaN                   NaN   \n",
            "freq             NaN          NaN          NaN                   NaN   \n",
            "mean    2.907026e-17     4.284315     6.429181             12.054973   \n",
            "std     1.000058e+00     0.836687     3.691319              7.890304   \n",
            "min    -1.756245e+00     1.000000     0.000000              0.000000   \n",
            "25%    -7.387812e-01     4.000000     4.000000              6.000000   \n",
            "50%    -7.016242e-02     4.000000     6.000000              8.000000   \n",
            "75%     6.129916e-01     4.000000    10.000000             21.000000   \n",
            "max     2.908084e+00    16.000000    16.000000             24.000000   \n",
            "\n",
            "        Model_encoded  ...  Fuel type_LPG  Fuel type_Other Fuel type_Petrol  \\\n",
            "count     8677.000000  ...           8677             8677             8677   \n",
            "unique            NaN  ...              2                2                2   \n",
            "top               NaN  ...          False            False             True   \n",
            "freq              NaN  ...           8365             7050             4455   \n",
            "mean       549.572894  ...            NaN              NaN              NaN   \n",
            "std        270.445692  ...            NaN              NaN              NaN   \n",
            "min          0.000000  ...            NaN              NaN              NaN   \n",
            "25%        327.000000  ...            NaN              NaN              NaN   \n",
            "50%        558.000000  ...            NaN              NaN              NaN   \n",
            "75%        784.000000  ...            NaN              NaN              NaN   \n",
            "max       1017.000000  ...            NaN              NaN              NaN   \n",
            "\n",
            "       Gear box type_1 Gear box type_2 Doors_2-3 Doors_4-5 Doors_>5  \\\n",
            "count             8677            8677      8677      8677     8677   \n",
            "unique               2               2         2         2        2   \n",
            "top               True           False     False      True    False   \n",
            "freq              5920            5920      8380      8306     8603   \n",
            "mean               NaN             NaN       NaN       NaN      NaN   \n",
            "std                NaN             NaN       NaN       NaN      NaN   \n",
            "min                NaN             NaN       NaN       NaN      NaN   \n",
            "25%                NaN             NaN       NaN       NaN      NaN   \n",
            "50%                NaN             NaN       NaN       NaN      NaN   \n",
            "75%                NaN             NaN       NaN       NaN      NaN   \n",
            "max                NaN             NaN       NaN       NaN      NaN   \n",
            "\n",
            "       Wheel_Left wheel Wheel_Right-hand drive  \n",
            "count              8677                   8677  \n",
            "unique                2                      2  \n",
            "top                True                  False  \n",
            "freq               8177                   8177  \n",
            "mean                NaN                    NaN  \n",
            "std                 NaN                    NaN  \n",
            "min                 NaN                    NaN  \n",
            "25%                 NaN                    NaN  \n",
            "50%                 NaN                    NaN  \n",
            "75%                 NaN                    NaN  \n",
            "max                 NaN                    NaN  \n",
            "\n",
            "[11 rows x 26 columns]\n",
            "\n",
            "Missing Values:\n",
            "Price                     0\n",
            "Manufacturer              0\n",
            "Model                     0\n",
            "Category                  0\n",
            "Engine volume             0\n",
            "Mileage                   0\n",
            "Cylinders                 0\n",
            "Airbags                   0\n",
            "Manufacturer_encoded      0\n",
            "Model_encoded             0\n",
            "Has Turbo                 0\n",
            "Age                       0\n",
            "Category_encoded_1        0\n",
            "Category_encoded_2        0\n",
            "Fuel type_CNG             0\n",
            "Fuel type_Diesel          0\n",
            "Fuel type_LPG             0\n",
            "Fuel type_Other           0\n",
            "Fuel type_Petrol          0\n",
            "Gear box type_1           0\n",
            "Gear box type_2           0\n",
            "Doors_2-3                 0\n",
            "Doors_4-5                 0\n",
            "Doors_>5                  0\n",
            "Wheel_Left wheel          0\n",
            "Wheel_Right-hand drive    0\n",
            "dtype: int64\n",
            "\n",
            "Duplicate Rows:\n",
            "Empty DataFrame\n",
            "Columns: [Price, Manufacturer, Model, Category, Engine volume, Mileage, Cylinders, Airbags, Manufacturer_encoded, Model_encoded, Has Turbo, Age, Category_encoded_1, Category_encoded_2, Fuel type_CNG, Fuel type_Diesel, Fuel type_LPG, Fuel type_Other, Fuel type_Petrol, Gear box type_1, Gear box type_2, Doors_2-3, Doors_4-5, Doors_>5, Wheel_Left wheel, Wheel_Right-hand drive]\n",
            "Index: []\n",
            "\n",
            "[0 rows x 26 columns]\n"
          ]
        }
      ],
      "source": [
        "# Data Profiling: Check basic statistics and data types\n",
        "data_profile = encoded_dataset.describe(include='all')\n",
        "\n",
        "# Data Completeness: Check for missing values\n",
        "missing_values = encoded_dataset.isnull().sum()\n",
        "\n",
        "# Data Consistency: Check for duplicate rows\n",
        "duplicate_rows = encoded_dataset[encoded_dataset.duplicated()]\n",
        "\n",
        "# Print the results\n",
        "print(\"Data Profiling:\")\n",
        "print(data_profile)\n",
        "print(\"\\nMissing Values:\")\n",
        "print(missing_values)\n",
        "print(\"\\nDuplicate Rows:\")\n",
        "print(duplicate_rows)"
      ]
    },
    {
      "cell_type": "code",
      "execution_count": 57,
      "metadata": {},
      "outputs": [],
      "source": [
        "import pandas as pd\n",
        "\n",
        "# Assuming df is your DataFrame\n",
        "encoded_dataset.to_csv('used_in_model_training.csv', index=False)\n"
      ]
    },
    {
      "cell_type": "code",
      "execution_count": 58,
      "metadata": {},
      "outputs": [
        {
          "name": "stdout",
          "output_type": "stream",
          "text": [
            "X_train shape: (6941, 22)\n",
            "X_test shape: (1736, 22)\n",
            "y_train shape: (6941,)\n",
            "y_test shape: (1736,)\n"
          ]
        }
      ],
      "source": [
        "from sklearn.model_selection import train_test_split\n",
        "\n",
        "# Assuming df is your DataFrame, X contains features, and y contains the target variable\n",
        "X = encoded_dataset.drop(['Price','Manufacturer', 'Model','Category'],axis=1)  # Assuming 'Price' is the target variable\n",
        "y = encoded_dataset['Price']\n",
        "\n",
        "# Split the dataset into training and testing sets\n",
        "X_train, X_test, y_train, y_test = train_test_split(X, y, test_size=0.2, random_state=42)\n",
        "\n",
        "# Display the shapes of the resulting sets\n",
        "print(\"X_train shape:\", X_train.shape)\n",
        "print(\"X_test shape:\", X_test.shape)\n",
        "print(\"y_train shape:\", y_train.shape)\n",
        "print(\"y_test shape:\", y_test.shape)\n"
      ]
    },
    {
      "cell_type": "code",
      "execution_count": 59,
      "metadata": {},
      "outputs": [
        {
          "name": "stdout",
          "output_type": "stream",
          "text": [
            "Accuracy (XGBoost): 0.0\n",
            "Mean Squared Error (XGBoost): 23308514.76807103\n",
            "Root Mean Squared Error (XGBoost): 4827.889266343112\n",
            "Mean Absolute Error (XGBoost): 3427.6272928967455\n",
            "R-squared (XGBoost): 0.7376437510171518\n"
          ]
        }
      ],
      "source": [
        "import xgboost as xgb\n",
        "from sklearn.metrics import mean_squared_error, mean_absolute_error, r2_score,accuracy_score\n",
        "from sklearn.model_selection import train_test_split\n",
        "\n",
        "# Assuming X_train, X_test, y_train, y_test are already defined\n",
        "# Convert data to DMatrix format used by XGBoost\n",
        "dtrain = xgb.DMatrix(X_train, label=y_train)\n",
        "dtest = xgb.DMatrix(X_test, label=y_test)\n",
        "\n",
        "# Set hyperparameters\n",
        "params = {\n",
        "    'objective': 'reg:squarederror',  # for regression tasks\n",
        "    'eval_metric': 'rmse',  # root mean squared error\n",
        "    'eta': 0.08,  # learning rate\n",
        "    'max_depth': 8,  # maximum depth of a tree\n",
        "    'subsample': 0.9,  # fraction of samples used for training\n",
        "    'colsample_bytree': 0.8 # fraction of features used for training\n",
        "}\n",
        "\n",
        "# Train the XGBoost model\n",
        "num_rounds = 180 # You can adjust the number of boosting rounds\n",
        "xg_model = xgb.train(params, dtrain, num_rounds)\n",
        "\n",
        "# Make predictions on the test set\n",
        "y_pred_xgb = xg_model.predict(dtest)\n",
        "\n",
        "# Evaluate the XGBoost model\n",
        "mse_xgb = mean_squared_error(y_test, y_pred_xgb)\n",
        "rmse_xgb = mean_squared_error(y_test, y_pred_xgb, squared=False)\n",
        "mae_xgb = mean_absolute_error(y_test, y_pred_xgb)\n",
        "r2_xgb = r2_score(y_test, y_pred_xgb)\n",
        "accuracy = accuracy_score(y_test, y_pred_xgb.round())\n",
        "print(f'Accuracy (XGBoost): {accuracy}')\n",
        "print(f'Mean Squared Error (XGBoost): {mse_xgb}')\n",
        "print(f'Root Mean Squared Error (XGBoost): {rmse_xgb}')\n",
        "print(f'Mean Absolute Error (XGBoost): {mae_xgb}')\n",
        "print(f'R-squared (XGBoost): {r2_xgb}')\n"
      ]
    },
    {
      "cell_type": "code",
      "execution_count": 60,
      "metadata": {},
      "outputs": [],
      "source": [
        "import xgboost as xgb\n",
        "import pickle\n",
        "from sklearn.preprocessing import MinMaxScaler\n",
        "\n",
        "# Assuming xg_model and scaler are already defined\n",
        "\n",
        "# Save the model and normalization parameters\n",
        "model_data = {'xg_model': xg_model, 'scaler': scaler, 'other_info': 'additional data'}\n",
        "with open('xg_model.pkl', 'wb') as file:\n",
        "    pickle.dump(model_data, file)\n",
        "\n"
      ]
    },
    {
      "cell_type": "code",
      "execution_count": 61,
      "metadata": {},
      "outputs": [
        {
          "name": "stdout",
          "output_type": "stream",
          "text": [
            "Standard Deviation (Variability) of the Target Variable: 9215.575838199662\n"
          ]
        }
      ],
      "source": [
        "import numpy as np\n",
        "\n",
        "# Assuming 'y' is your target variable\n",
        "# Replace 'y' with your actual target variable\n",
        "target_variable = y\n",
        "\n",
        "# Calculate the standard deviation\n",
        "variability = np.std(target_variable)\n",
        "\n",
        "print(f\"Standard Deviation (Variability) of the Target Variable: {variability}\")\n"
      ]
    },
    {
      "cell_type": "code",
      "execution_count": 62,
      "metadata": {},
      "outputs": [
        {
          "data": {
            "image/png": "[encoded data removed]",
            "text/plain": [
              "<Figure size 1000x600 with 1 Axes>"
            ]
          },
          "metadata": {},
          "output_type": "display_data"
        }
      ],
      "source": [
        "import matplotlib.pyplot as plt\n",
        "\n",
        "# Assuming y_test contains true prices and y_pred_xgb contains predicted prices\n",
        "# Replace these variables with your actual data\n",
        "true_prices = y_test\n",
        "predicted_prices = y_pred_xgb\n",
        "\n",
        "# Plotting the scatter plot\n",
        "plt.figure(figsize=(10, 6))\n",
        "plt.scatter(true_prices, predicted_prices, alpha=0.5)\n",
        "plt.title('True Prices vs Predicted Prices')\n",
        "plt.xlabel('True Prices')\n",
        "plt.ylabel('Predicted Prices')\n",
        "plt.show()\n"
      ]
    },
    {
      "cell_type": "code",
      "execution_count": 63,
      "metadata": {},
      "outputs": [
        {
          "name": "stdout",
          "output_type": "stream",
          "text": [
            "average price value :  21282.916100034574\n"
          ]
        }
      ],
      "source": [
        "print(\"average price value : \",encoded_dataset['Price'].mean())"
      ]
    },
    {
      "cell_type": "code",
      "execution_count": 64,
      "metadata": {},
      "outputs": [
        {
          "name": "stdout",
          "output_type": "stream",
          "text": [
            "For Manufacturer 'Other':\n",
            "Model_encoded: 695\n",
            "Manufacturer_encoded: 18\n"
          ]
        }
      ],
      "source": [
        "other_manufacturer = \"Other\"\n",
        "if other_manufacturer in encoded_dataset['Manufacturer'].values:\n",
        "  other_manufacturer_index = encoded_dataset[encoded_dataset['Manufacturer'] == other_manufacturer].index[0]\n",
        "  other_model_encoded = encoded_dataset['Model_encoded'][other_manufacturer_index]\n",
        "  other_manufacturer_encoded = encoded_dataset['Manufacturer_encoded'][other_manufacturer_index]\n",
        "  print(\"For Manufacturer 'Other':\")\n",
        "  print(\"Model_encoded:\", other_model_encoded)\n",
        "  print(\"Manufacturer_encoded:\", other_manufacturer_encoded)\n",
        "else:\n",
        "  print(\"The value 'Other' is not found in the 'Manufacturer' column.\")"
      ]
    },
    {
      "cell_type": "code",
      "execution_count": 65,
      "metadata": {},
      "outputs": [
        {
          "data": {
            "text/html": [
              "<div>\n",
              "<style scoped>\n",
              "    .dataframe tbody tr th:only-of-type {\n",
              "        vertical-align: middle;\n",
              "    }\n",
              "\n",
              "    .dataframe tbody tr th {\n",
              "        vertical-align: top;\n",
              "    }\n",
              "\n",
              "    .dataframe thead th {\n",
              "        text-align: right;\n",
              "    }\n",
              "</style>\n",
              "<table border=\"1\" class=\"dataframe\">\n",
              "  <thead>\n",
              "    <tr style=\"text-align: right;\">\n",
              "      <th></th>\n",
              "      <th>Price</th>\n",
              "      <th>Manufacturer</th>\n",
              "      <th>Model</th>\n",
              "      <th>Category</th>\n",
              "      <th>Engine volume</th>\n",
              "      <th>Mileage</th>\n",
              "      <th>Cylinders</th>\n",
              "      <th>Airbags</th>\n",
              "      <th>Manufacturer_encoded</th>\n",
              "      <th>Model_encoded</th>\n",
              "      <th>...</th>\n",
              "      <th>Fuel type_LPG</th>\n",
              "      <th>Fuel type_Other</th>\n",
              "      <th>Fuel type_Petrol</th>\n",
              "      <th>Gear box type_1</th>\n",
              "      <th>Gear box type_2</th>\n",
              "      <th>Doors_2-3</th>\n",
              "      <th>Doors_4-5</th>\n",
              "      <th>Doors_&gt;5</th>\n",
              "      <th>Wheel_Left wheel</th>\n",
              "      <th>Wheel_Right-hand drive</th>\n",
              "    </tr>\n",
              "  </thead>\n",
              "  <tbody>\n",
              "    <tr>\n",
              "      <th>0</th>\n",
              "      <td>13328</td>\n",
              "      <td>LEXUS</td>\n",
              "      <td>RX 450</td>\n",
              "      <td>Jeep</td>\n",
              "      <td>3.5</td>\n",
              "      <td>0.947374</td>\n",
              "      <td>6.0</td>\n",
              "      <td>12</td>\n",
              "      <td>11</td>\n",
              "      <td>805</td>\n",
              "      <td>...</td>\n",
              "      <td>False</td>\n",
              "      <td>True</td>\n",
              "      <td>False</td>\n",
              "      <td>True</td>\n",
              "      <td>False</td>\n",
              "      <td>False</td>\n",
              "      <td>True</td>\n",
              "      <td>False</td>\n",
              "      <td>True</td>\n",
              "      <td>False</td>\n",
              "    </tr>\n",
              "    <tr>\n",
              "      <th>1</th>\n",
              "      <td>16621</td>\n",
              "      <td>CHEVROLET</td>\n",
              "      <td>Equinox</td>\n",
              "      <td>Jeep</td>\n",
              "      <td>3.0</td>\n",
              "      <td>1.034512</td>\n",
              "      <td>6.0</td>\n",
              "      <td>8</td>\n",
              "      <td>2</td>\n",
              "      <td>415</td>\n",
              "      <td>...</td>\n",
              "      <td>False</td>\n",
              "      <td>False</td>\n",
              "      <td>True</td>\n",
              "      <td>False</td>\n",
              "      <td>True</td>\n",
              "      <td>False</td>\n",
              "      <td>True</td>\n",
              "      <td>False</td>\n",
              "      <td>True</td>\n",
              "      <td>False</td>\n",
              "    </tr>\n",
              "    <tr>\n",
              "      <th>2</th>\n",
              "      <td>11726</td>\n",
              "      <td>HONDA</td>\n",
              "      <td>FIT</td>\n",
              "      <td>Hatchback</td>\n",
              "      <td>1.3</td>\n",
              "      <td>-0.420446</td>\n",
              "      <td>4.0</td>\n",
              "      <td>4</td>\n",
              "      <td>6</td>\n",
              "      <td>432</td>\n",
              "      <td>...</td>\n",
              "      <td>False</td>\n",
              "      <td>False</td>\n",
              "      <td>True</td>\n",
              "      <td>True</td>\n",
              "      <td>False</td>\n",
              "      <td>False</td>\n",
              "      <td>True</td>\n",
              "      <td>False</td>\n",
              "      <td>True</td>\n",
              "      <td>False</td>\n",
              "    </tr>\n",
              "    <tr>\n",
              "      <th>3</th>\n",
              "      <td>39493</td>\n",
              "      <td>HYUNDAI</td>\n",
              "      <td>Santa FE</td>\n",
              "      <td>Jeep</td>\n",
              "      <td>2.0</td>\n",
              "      <td>0.582918</td>\n",
              "      <td>4.0</td>\n",
              "      <td>4</td>\n",
              "      <td>7</td>\n",
              "      <td>836</td>\n",
              "      <td>...</td>\n",
              "      <td>False</td>\n",
              "      <td>False</td>\n",
              "      <td>False</td>\n",
              "      <td>True</td>\n",
              "      <td>False</td>\n",
              "      <td>False</td>\n",
              "      <td>True</td>\n",
              "      <td>False</td>\n",
              "      <td>True</td>\n",
              "      <td>False</td>\n",
              "    </tr>\n",
              "    <tr>\n",
              "      <th>4</th>\n",
              "      <td>26657</td>\n",
              "      <td>LEXUS</td>\n",
              "      <td>RX 350</td>\n",
              "      <td>Jeep</td>\n",
              "      <td>3.5</td>\n",
              "      <td>0.111527</td>\n",
              "      <td>6.0</td>\n",
              "      <td>12</td>\n",
              "      <td>11</td>\n",
              "      <td>799</td>\n",
              "      <td>...</td>\n",
              "      <td>False</td>\n",
              "      <td>False</td>\n",
              "      <td>True</td>\n",
              "      <td>True</td>\n",
              "      <td>False</td>\n",
              "      <td>False</td>\n",
              "      <td>True</td>\n",
              "      <td>False</td>\n",
              "      <td>True</td>\n",
              "      <td>False</td>\n",
              "    </tr>\n",
              "    <tr>\n",
              "      <th>...</th>\n",
              "      <td>...</td>\n",
              "      <td>...</td>\n",
              "      <td>...</td>\n",
              "      <td>...</td>\n",
              "      <td>...</td>\n",
              "      <td>...</td>\n",
              "      <td>...</td>\n",
              "      <td>...</td>\n",
              "      <td>...</td>\n",
              "      <td>...</td>\n",
              "      <td>...</td>\n",
              "      <td>...</td>\n",
              "      <td>...</td>\n",
              "      <td>...</td>\n",
              "      <td>...</td>\n",
              "      <td>...</td>\n",
              "      <td>...</td>\n",
              "      <td>...</td>\n",
              "      <td>...</td>\n",
              "      <td>...</td>\n",
              "      <td>...</td>\n",
              "    </tr>\n",
              "    <tr>\n",
              "      <th>8672</th>\n",
              "      <td>19444</td>\n",
              "      <td>TOYOTA</td>\n",
              "      <td>Prius</td>\n",
              "      <td>Sedan</td>\n",
              "      <td>1.8</td>\n",
              "      <td>0.287505</td>\n",
              "      <td>4.0</td>\n",
              "      <td>12</td>\n",
              "      <td>23</td>\n",
              "      <td>733</td>\n",
              "      <td>...</td>\n",
              "      <td>False</td>\n",
              "      <td>True</td>\n",
              "      <td>False</td>\n",
              "      <td>True</td>\n",
              "      <td>False</td>\n",
              "      <td>False</td>\n",
              "      <td>True</td>\n",
              "      <td>False</td>\n",
              "      <td>True</td>\n",
              "      <td>False</td>\n",
              "    </tr>\n",
              "    <tr>\n",
              "      <th>8673</th>\n",
              "      <td>15681</td>\n",
              "      <td>VOLKSWAGEN</td>\n",
              "      <td>Jetta</td>\n",
              "      <td>Sedan</td>\n",
              "      <td>2.5</td>\n",
              "      <td>-0.575987</td>\n",
              "      <td>5.0</td>\n",
              "      <td>12</td>\n",
              "      <td>24</td>\n",
              "      <td>567</td>\n",
              "      <td>...</td>\n",
              "      <td>False</td>\n",
              "      <td>False</td>\n",
              "      <td>True</td>\n",
              "      <td>False</td>\n",
              "      <td>True</td>\n",
              "      <td>False</td>\n",
              "      <td>True</td>\n",
              "      <td>False</td>\n",
              "      <td>True</td>\n",
              "      <td>False</td>\n",
              "    </tr>\n",
              "    <tr>\n",
              "      <th>8674</th>\n",
              "      <td>19130</td>\n",
              "      <td>KIA</td>\n",
              "      <td>Optima ex</td>\n",
              "      <td>Sedan</td>\n",
              "      <td>2.4</td>\n",
              "      <td>-1.235885</td>\n",
              "      <td>4.0</td>\n",
              "      <td>12</td>\n",
              "      <td>10</td>\n",
              "      <td>690</td>\n",
              "      <td>...</td>\n",
              "      <td>False</td>\n",
              "      <td>False</td>\n",
              "      <td>True</td>\n",
              "      <td>True</td>\n",
              "      <td>False</td>\n",
              "      <td>False</td>\n",
              "      <td>True</td>\n",
              "      <td>False</td>\n",
              "      <td>True</td>\n",
              "      <td>False</td>\n",
              "    </tr>\n",
              "    <tr>\n",
              "      <th>8675</th>\n",
              "      <td>15681</td>\n",
              "      <td>HYUNDAI</td>\n",
              "      <td>Sonata</td>\n",
              "      <td>Sedan</td>\n",
              "      <td>2.4</td>\n",
              "      <td>0.592642</td>\n",
              "      <td>4.0</td>\n",
              "      <td>8</td>\n",
              "      <td>7</td>\n",
              "      <td>852</td>\n",
              "      <td>...</td>\n",
              "      <td>False</td>\n",
              "      <td>False</td>\n",
              "      <td>True</td>\n",
              "      <td>False</td>\n",
              "      <td>True</td>\n",
              "      <td>False</td>\n",
              "      <td>True</td>\n",
              "      <td>False</td>\n",
              "      <td>True</td>\n",
              "      <td>False</td>\n",
              "    </tr>\n",
              "    <tr>\n",
              "      <th>8676</th>\n",
              "      <td>26108</td>\n",
              "      <td>HYUNDAI</td>\n",
              "      <td>Tucson</td>\n",
              "      <td>Jeep</td>\n",
              "      <td>2.0</td>\n",
              "      <td>-0.064857</td>\n",
              "      <td>4.0</td>\n",
              "      <td>4</td>\n",
              "      <td>7</td>\n",
              "      <td>926</td>\n",
              "      <td>...</td>\n",
              "      <td>False</td>\n",
              "      <td>False</td>\n",
              "      <td>False</td>\n",
              "      <td>True</td>\n",
              "      <td>False</td>\n",
              "      <td>False</td>\n",
              "      <td>True</td>\n",
              "      <td>False</td>\n",
              "      <td>True</td>\n",
              "      <td>False</td>\n",
              "    </tr>\n",
              "  </tbody>\n",
              "</table>\n",
              "<p>8677 rows × 26 columns</p>\n",
              "</div>"
            ],
            "text/plain": [
              "      Price Manufacturer      Model   Category  Engine volume   Mileage  \\\n",
              "0     13328        LEXUS     RX 450       Jeep            3.5  0.947374   \n",
              "1     16621    CHEVROLET    Equinox       Jeep            3.0  1.034512   \n",
              "2     11726        HONDA        FIT  Hatchback            1.3 -0.420446   \n",
              "3     39493      HYUNDAI   Santa FE       Jeep            2.0  0.582918   \n",
              "4     26657        LEXUS     RX 350       Jeep            3.5  0.111527   \n",
              "...     ...          ...        ...        ...            ...       ...   \n",
              "8672  19444       TOYOTA      Prius      Sedan            1.8  0.287505   \n",
              "8673  15681   VOLKSWAGEN      Jetta      Sedan            2.5 -0.575987   \n",
              "8674  19130          KIA  Optima ex      Sedan            2.4 -1.235885   \n",
              "8675  15681      HYUNDAI     Sonata      Sedan            2.4  0.592642   \n",
              "8676  26108      HYUNDAI     Tucson       Jeep            2.0 -0.064857   \n",
              "\n",
              "      Cylinders  Airbags  Manufacturer_encoded  Model_encoded  ...  \\\n",
              "0           6.0       12                    11            805  ...   \n",
              "1           6.0        8                     2            415  ...   \n",
              "2           4.0        4                     6            432  ...   \n",
              "3           4.0        4                     7            836  ...   \n",
              "4           6.0       12                    11            799  ...   \n",
              "...         ...      ...                   ...            ...  ...   \n",
              "8672        4.0       12                    23            733  ...   \n",
              "8673        5.0       12                    24            567  ...   \n",
              "8674        4.0       12                    10            690  ...   \n",
              "8675        4.0        8                     7            852  ...   \n",
              "8676        4.0        4                     7            926  ...   \n",
              "\n",
              "      Fuel type_LPG  Fuel type_Other  Fuel type_Petrol  Gear box type_1  \\\n",
              "0             False             True             False             True   \n",
              "1             False            False              True            False   \n",
              "2             False            False              True             True   \n",
              "3             False            False             False             True   \n",
              "4             False            False              True             True   \n",
              "...             ...              ...               ...              ...   \n",
              "8672          False             True             False             True   \n",
              "8673          False            False              True            False   \n",
              "8674          False            False              True             True   \n",
              "8675          False            False              True            False   \n",
              "8676          False            False             False             True   \n",
              "\n",
              "      Gear box type_2  Doors_2-3  Doors_4-5  Doors_>5  Wheel_Left wheel  \\\n",
              "0               False      False       True     False              True   \n",
              "1                True      False       True     False              True   \n",
              "2               False      False       True     False              True   \n",
              "3               False      False       True     False              True   \n",
              "4               False      False       True     False              True   \n",
              "...               ...        ...        ...       ...               ...   \n",
              "8672            False      False       True     False              True   \n",
              "8673             True      False       True     False              True   \n",
              "8674            False      False       True     False              True   \n",
              "8675             True      False       True     False              True   \n",
              "8676            False      False       True     False              True   \n",
              "\n",
              "      Wheel_Right-hand drive  \n",
              "0                      False  \n",
              "1                      False  \n",
              "2                      False  \n",
              "3                      False  \n",
              "4                      False  \n",
              "...                      ...  \n",
              "8672                   False  \n",
              "8673                   False  \n",
              "8674                   False  \n",
              "8675                   False  \n",
              "8676                   False  \n",
              "\n",
              "[8677 rows x 26 columns]"
            ]
          },
          "execution_count": 65,
          "metadata": {},
          "output_type": "execute_result"
        }
      ],
      "source": [
        "used_df = pd.read_csv('used_in_model_training.csv')\n",
        "used_df"
      ]
    },
    {
      "cell_type": "code",
      "execution_count": 66,
      "metadata": {},
      "outputs": [
        {
          "data": {
            "text/plain": [
              "Category\n",
              "Sedan          3868\n",
              "Jeep           2339\n",
              "Hatchback      1403\n",
              "Minivan         365\n",
              "Coupe           206\n",
              "Microbus        195\n",
              "Universal       179\n",
              "Goods wagon      83\n",
              "Pickup           22\n",
              "Cabriolet        15\n",
              "Limousine         2\n",
              "Name: count, dtype: int64"
            ]
          },
          "execution_count": 66,
          "metadata": {},
          "output_type": "execute_result"
        }
      ],
      "source": [
        "encoded_dataset['Category'].value_counts()"
      ]
    }
  ],
  "metadata": {
    "colab": {
      "provenance": []
    },
    "kernelspec": {
      "display_name": "Python 3",
      "name": "python3"
    },
    "language_info": {
      "codemirror_mode": {
        "name": "ipython",
        "version": 3
      },
      "file_extension": ".py",
      "mimetype": "text/x-python",
      "name": "python",
      "nbconvert_exporter": "python",
      "pygments_lexer": "ipython3",
      "version": "3.11.4"
    }
  },
  "nbformat": 4,
  "nbformat_minor": 0
}
